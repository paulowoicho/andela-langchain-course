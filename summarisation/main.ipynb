{
  "cells": [
    {
      "cell_type": "markdown",
      "id": "3ed6115d",
      "metadata": {
        "id": "3ed6115d"
      },
      "source": [
        "# Summarization Using LangChain and OpenAI"
      ]
    },
    {
      "cell_type": "code",
      "execution_count": 1,
      "id": "b646daff",
      "metadata": {
        "id": "b646daff",
        "outputId": "f457732f-6ca6-4d22-9080-49dbc6a8753f"
      },
      "outputs": [
        {
          "data": {
            "text/plain": [
              "True"
            ]
          },
          "execution_count": 1,
          "metadata": {},
          "output_type": "execute_result"
        }
      ],
      "source": [
        "import os\n",
        "from dotenv import load_dotenv, find_dotenv\n",
        "load_dotenv(find_dotenv(), override=True)"
      ]
    },
    {
      "cell_type": "markdown",
      "id": "8fab7d02",
      "metadata": {
        "id": "8fab7d02"
      },
      "source": [
        "### A) Basic Prompt"
      ]
    },
    {
      "cell_type": "code",
      "execution_count": 2,
      "id": "0e3ff20f",
      "metadata": {
        "id": "0e3ff20f"
      },
      "outputs": [],
      "source": [
        "from langchain.chat_models import ChatOpenAI\n",
        "from langchain.schema import(\n",
        "    AIMessage,\n",
        "    HumanMessage,\n",
        "    SystemMessage\n",
        ")\n"
      ]
    },
    {
      "cell_type": "code",
      "execution_count": 3,
      "id": "0c626f9f",
      "metadata": {
        "id": "0c626f9f"
      },
      "outputs": [],
      "source": [
        "text= \"\"\"\n",
        "Mojo combines the usability of Python with the performance of C, unlocking unparalleled programmability \\\n",
        "of AI hardware and extensibility of AI models.\n",
        "Mojo is a new programming language that bridges the gap between research and production \\\n",
        "by combining the best of Python syntax with systems programming and metaprogramming.\n",
        "With Mojo, you can write portable code that’s faster than C and seamlessly inter-op with the Python ecosystem.\n",
        "When we started Modular, we had no intention of building a new programming language. \\\n",
        "But as we were building our platform with the intent to unify the world’s ML/AI infrastructure, \\\n",
        "we realized that programming across the entire stack was too complicated. Plus, we were writing a \\\n",
        "lot of MLIR by hand and not having a good time.\n",
        "And although accelerators are important, one of the most prevalent and sometimes overlooked \"accelerators\" \\\n",
        "is the host CPU. Nowadays, CPUs have lots of tensor-core-like accelerator blocks and other AI acceleration \\\n",
        "units, but they also serve as the “fallback” for operations that specialized accelerators don’t handle, \\\n",
        "such as data loading, pre- and post-processing, and integrations with foreign systems. \\\n",
        "\"\"\"\n",
        "\n",
        "messages = [\n",
        "    SystemMessage(content='You are an expert copywriter with expertize in summarizing documents'),\n",
        "    HumanMessage(content=f'Please provide a short and concise summary of the following text:\\n TEXT: {text}')\n",
        "]\n",
        "\n",
        "llm = ChatOpenAI(temperature=0, model_name='gpt-3.5-turbo')\n",
        "\n"
      ]
    },
    {
      "cell_type": "code",
      "execution_count": 4,
      "id": "41500c5d",
      "metadata": {
        "id": "41500c5d",
        "outputId": "005f23c3-50cc-4dc8-96e4-f61c434c469a"
      },
      "outputs": [
        {
          "data": {
            "text/plain": [
              "229"
            ]
          },
          "execution_count": 4,
          "metadata": {},
          "output_type": "execute_result"
        }
      ],
      "source": [
        "llm.get_num_tokens(text)"
      ]
    },
    {
      "cell_type": "code",
      "execution_count": 5,
      "id": "8b11437d",
      "metadata": {
        "id": "8b11437d"
      },
      "outputs": [],
      "source": [
        "summary_output = llm(messages)"
      ]
    },
    {
      "cell_type": "code",
      "execution_count": 6,
      "id": "80ec720f",
      "metadata": {
        "id": "80ec720f",
        "outputId": "bf468f16-671f-4664-ce0c-a565d4199973"
      },
      "outputs": [
        {
          "name": "stdout",
          "output_type": "stream",
          "text": [
            "Mojo is a new programming language that combines the usability of Python with the performance of C. It aims to bridge the gap between research and production in the field of AI by offering portable code that is faster than C and seamlessly integrates with the Python ecosystem. Mojo was developed to simplify programming across the entire ML/AI infrastructure and to address the complexity of writing MLIR by hand. Additionally, Mojo recognizes the importance of host CPUs as accelerators and their role in handling operations that specialized accelerators cannot.\n"
          ]
        }
      ],
      "source": [
        "print(summary_output.content)"
      ]
    },
    {
      "cell_type": "markdown",
      "id": "2e74f5f0",
      "metadata": {
        "id": "2e74f5f0"
      },
      "source": [
        "### Summarizing Using Prompt Templates"
      ]
    },
    {
      "cell_type": "code",
      "execution_count": 7,
      "id": "b40afa96",
      "metadata": {
        "id": "b40afa96"
      },
      "outputs": [],
      "source": [
        "from langchain import PromptTemplate\n",
        "from langchain.chains import LLMChain"
      ]
    },
    {
      "cell_type": "code",
      "execution_count": 8,
      "id": "b6047971",
      "metadata": {
        "id": "b6047971"
      },
      "outputs": [],
      "source": [
        "template = '''\n",
        "Write a concise and short summary of the following text:\n",
        "TEXT: `{text}`\n",
        "Translate the summary to {language}.\n",
        "'''\n",
        "prompt = PromptTemplate(\n",
        "    input_variables=['text', 'language'],\n",
        "    template=template\n",
        ")"
      ]
    },
    {
      "cell_type": "code",
      "execution_count": 9,
      "id": "4564f1d5",
      "metadata": {
        "id": "4564f1d5",
        "outputId": "fb39a3b8-a733-4ea7-9c84-e27256725013"
      },
      "outputs": [
        {
          "data": {
            "text/plain": [
              "249"
            ]
          },
          "execution_count": 9,
          "metadata": {},
          "output_type": "execute_result"
        }
      ],
      "source": [
        "llm.get_num_tokens(prompt.format(text=text, language='English'))"
      ]
    },
    {
      "cell_type": "code",
      "execution_count": 10,
      "id": "9b0a1de8",
      "metadata": {
        "id": "9b0a1de8"
      },
      "outputs": [],
      "source": [
        "chain = LLMChain(llm=llm, prompt=prompt)\n",
        "summary = chain.run({'text': text, 'language':'hindi'})"
      ]
    },
    {
      "cell_type": "code",
      "execution_count": 11,
      "id": "f24b9e9f",
      "metadata": {
        "id": "f24b9e9f",
        "outputId": "388b87ba-19d4-42b2-a609-dba0e1abf196"
      },
      "outputs": [
        {
          "name": "stdout",
          "output_type": "stream",
          "text": [
            "Mojo एक नया प्रोग्रामिंग भाषा है जो पायथन की उपयोगिता को सी की प्रदर्शन के साथ मिलाकर एआई हार्डवेयर की अद्वितीय प्रोग्रामबिलिटी और एआई मॉडल की विस्तारयोग्यता को खोलता है। Mojo एक नई प्रोग्रामिंग भाषा है जो पायथन की सिंटेक्स को सिस्टम प्रोग्रामिंग और मेटाप्रोग्रामिंग के साथ मिलाकर अनुसंधान और उत्पादन के बीच की खाई को पूरा करती है। Mojo के साथ, आप C से तेज़ पोर्टेबल कोड लिख सकते हैं और पायथन इकोसिस्टम के साथ सहजता से इंटरऑप कर सकते हैं।\n"
          ]
        }
      ],
      "source": [
        "print(summary)"
      ]
    },
    {
      "cell_type": "markdown",
      "id": "1d60b55e",
      "metadata": {
        "id": "1d60b55e"
      },
      "source": [
        "### Summarizing using SuffDocumentChain"
      ]
    },
    {
      "cell_type": "code",
      "execution_count": 12,
      "id": "647968e5",
      "metadata": {
        "id": "647968e5"
      },
      "outputs": [],
      "source": [
        "from langchain import PromptTemplate\n",
        "from langchain.chat_models import ChatOpenAI\n",
        "from langchain.chains.summarize import load_summarize_chain\n",
        "from langchain.docstore.document import Document\n"
      ]
    },
    {
      "cell_type": "code",
      "execution_count": 15,
      "id": "f18f8c5e",
      "metadata": {
        "id": "f18f8c5e"
      },
      "outputs": [],
      "source": [
        "with open('../files/sj.txt', encoding='utf-8') as f:\n",
        "    text = f.read()\n",
        "\n",
        "# text\n",
        "\n",
        "docs = [Document(page_content=text)]\n",
        "llm = ChatOpenAI(temperature=0, model_name='gpt-3.5-turbo')"
      ]
    },
    {
      "cell_type": "code",
      "execution_count": 16,
      "id": "da9e82a3",
      "metadata": {
        "id": "da9e82a3"
      },
      "outputs": [],
      "source": [
        "template = '''Write a concise and short summary of the following text.\n",
        "TEXT: `{text}`\n",
        "'''\n",
        "prompt = PromptTemplate(\n",
        "    input_variables=['text'],\n",
        "    template=template\n",
        ")"
      ]
    },
    {
      "cell_type": "code",
      "execution_count": 17,
      "id": "3f75df70",
      "metadata": {
        "id": "3f75df70"
      },
      "outputs": [],
      "source": [
        "chain = load_summarize_chain(\n",
        "    llm,\n",
        "    chain_type='stuff',\n",
        "    prompt=prompt,\n",
        "    verbose=False\n",
        ")\n",
        "output_summary = chain.run(docs)"
      ]
    },
    {
      "cell_type": "code",
      "execution_count": 18,
      "id": "ea408f9d",
      "metadata": {
        "id": "ea408f9d",
        "outputId": "2e11dee7-eb0e-4db9-f87e-b6236d45ddb9"
      },
      "outputs": [
        {
          "name": "stdout",
          "output_type": "stream",
          "text": [
            "The speaker, Steve Jobs, shares three stories from his life during a commencement speech. The first story is about dropping out of college and how it led him to take a calligraphy class, which later influenced the design of the Macintosh computer. The second story is about getting fired from Apple and how it allowed him to start over and eventually create successful companies like NeXT and Pixar. The third story is about facing death when he was diagnosed with cancer and how it made him realize the importance of following his heart and not wasting time. He ends the speech by encouraging the graduates to stay hungry and stay foolish.\n"
          ]
        }
      ],
      "source": [
        "print(output_summary)"
      ]
    },
    {
      "cell_type": "markdown",
      "id": "cb626999",
      "metadata": {
        "id": "cb626999"
      },
      "source": [
        "### Summarizing Large Documents Using map_reduce"
      ]
    },
    {
      "cell_type": "code",
      "execution_count": 19,
      "id": "9dcc4a20",
      "metadata": {
        "id": "9dcc4a20"
      },
      "outputs": [],
      "source": [
        "from langchain import PromptTemplate\n",
        "from langchain.chat_models import ChatOpenAI\n",
        "from langchain.chains.summarize import load_summarize_chain\n",
        "from langchain.text_splitter import RecursiveCharacterTextSplitter"
      ]
    },
    {
      "cell_type": "code",
      "execution_count": 21,
      "id": "1187c1b1",
      "metadata": {
        "id": "1187c1b1"
      },
      "outputs": [],
      "source": [
        "with open('../files/sj.txt', encoding='utf-8') as f:\n",
        "    text = f.read()\n",
        "\n",
        "llm = ChatOpenAI(temperature=0, model_name='gpt-3.5-turbo')"
      ]
    },
    {
      "cell_type": "code",
      "execution_count": 22,
      "id": "dd7ad95a",
      "metadata": {
        "id": "dd7ad95a",
        "outputId": "f552b206-06b8-41fc-d9a7-fa95d1525042"
      },
      "outputs": [
        {
          "data": {
            "text/plain": [
              "2653"
            ]
          },
          "execution_count": 22,
          "metadata": {},
          "output_type": "execute_result"
        }
      ],
      "source": [
        "llm.get_num_tokens(text)"
      ]
    },
    {
      "cell_type": "code",
      "execution_count": 23,
      "id": "a210bf66",
      "metadata": {
        "id": "a210bf66"
      },
      "outputs": [],
      "source": [
        "text_splitter = RecursiveCharacterTextSplitter(chunk_size=10000, chunk_overlap=50)\n",
        "chunks = text_splitter.create_documents([text])"
      ]
    },
    {
      "cell_type": "code",
      "execution_count": 24,
      "id": "0682a46e",
      "metadata": {
        "id": "0682a46e",
        "outputId": "0168e774-5844-436a-ce87-c3cd2ce77a72"
      },
      "outputs": [
        {
          "data": {
            "text/plain": [
              "2"
            ]
          },
          "execution_count": 24,
          "metadata": {},
          "output_type": "execute_result"
        }
      ],
      "source": [
        "len(chunks)"
      ]
    },
    {
      "cell_type": "code",
      "execution_count": 25,
      "id": "595e25ad",
      "metadata": {
        "id": "595e25ad"
      },
      "outputs": [],
      "source": [
        "chain = load_summarize_chain(\n",
        "    llm,\n",
        "    chain_type='map_reduce',\n",
        "    verbose=False\n",
        ")\n",
        "output_summary = chain.run(chunks)"
      ]
    },
    {
      "cell_type": "code",
      "execution_count": 26,
      "id": "356d16af",
      "metadata": {
        "id": "356d16af",
        "outputId": "92eb69cb-98f2-41dc-dd15-9f4601e1ef55"
      },
      "outputs": [
        {
          "name": "stdout",
          "output_type": "stream",
          "text": [
            "Steve Jobs shares three stories from his life, including dropping out of college and how it influenced the design of the Macintosh computer, getting fired from Apple and finding success in new ventures, and his experience with cancer and the importance of living each day fully. He emphasizes the importance of following one's passion, not settling, and embracing the inevitability of death. The speaker encourages the audience to live their own lives, follow their hearts, and embrace qualities of staying hungry and foolish as they embark on their new journey after graduation.\n"
          ]
        }
      ],
      "source": [
        "print(output_summary)"
      ]
    },
    {
      "cell_type": "code",
      "execution_count": 27,
      "id": "b990ae48",
      "metadata": {
        "id": "b990ae48",
        "outputId": "a228b129-9630-4ac3-deca-ad8213768d21"
      },
      "outputs": [
        {
          "data": {
            "text/plain": [
              "'Write a concise summary of the following:\\n\\n\\n\"{text}\"\\n\\n\\nCONCISE SUMMARY:'"
            ]
          },
          "execution_count": 27,
          "metadata": {},
          "output_type": "execute_result"
        }
      ],
      "source": [
        "chain.llm_chain.prompt.template"
      ]
    },
    {
      "cell_type": "code",
      "execution_count": 28,
      "id": "3ccda898",
      "metadata": {
        "id": "3ccda898",
        "outputId": "3adf7871-0789-4e6b-e2e5-b207c7b6ee54"
      },
      "outputs": [
        {
          "data": {
            "text/plain": [
              "'Write a concise summary of the following:\\n\\n\\n\"{text}\"\\n\\n\\nCONCISE SUMMARY:'"
            ]
          },
          "execution_count": 28,
          "metadata": {},
          "output_type": "execute_result"
        }
      ],
      "source": [
        "chain.combine_document_chain.llm_chain.prompt.template"
      ]
    },
    {
      "cell_type": "markdown",
      "id": "0f966117",
      "metadata": {
        "id": "0f966117"
      },
      "source": [
        "### map_reduce wich Custom Prompts"
      ]
    },
    {
      "cell_type": "code",
      "execution_count": 29,
      "id": "acc1a4c1",
      "metadata": {
        "id": "acc1a4c1"
      },
      "outputs": [],
      "source": [
        "map_prompt = '''\n",
        "Write a short and concise summary of the following:\n",
        "Text: `{text}`\n",
        "CONCISE SUMMARY:\n",
        "'''\n",
        "map_prompt_template = PromptTemplate(\n",
        "    input_variables=['text'],\n",
        "    template=map_prompt\n",
        ")"
      ]
    },
    {
      "cell_type": "code",
      "execution_count": 30,
      "id": "d72905e7",
      "metadata": {
        "id": "d72905e7"
      },
      "outputs": [],
      "source": [
        "combine_prompt = '''\n",
        "Write a concise summary of the following text that covers the key points.\n",
        "Add a title to the summary.\n",
        "Start your summary with an INTRODUCTION PARAGRAPH that gives an overview of the topic FOLLOWED\n",
        "by BULLET POINTS if possible AND end the summary with a CONCLUSION PHRASE.\n",
        "Text: `{text}`\n",
        "'''\n",
        "combine_prompt_template = PromptTemplate(template=combine_prompt, input_variables=['text'])"
      ]
    },
    {
      "cell_type": "code",
      "execution_count": 31,
      "id": "82f0f69c",
      "metadata": {
        "id": "82f0f69c"
      },
      "outputs": [
        {
          "name": "stderr",
          "output_type": "stream",
          "text": [
            "Retrying langchain.chat_models.openai.ChatOpenAI.completion_with_retry.<locals>._completion_with_retry in 4.0 seconds as it raised RateLimitError: Rate limit reached for default-gpt-3.5-turbo in organization org-NgmXnpBpFaLLIbFlmm27vgpu on requests per min. Limit: 3 / min. Please try again in 20s. Contact us through our help center at help.openai.com if you continue to have issues. Please add a payment method to your account to increase your rate limit. Visit https://platform.openai.com/account/billing to add a payment method..\n",
            "Retrying langchain.chat_models.openai.ChatOpenAI.completion_with_retry.<locals>._completion_with_retry in 4.0 seconds as it raised RateLimitError: Rate limit reached for default-gpt-3.5-turbo in organization org-NgmXnpBpFaLLIbFlmm27vgpu on requests per min. Limit: 3 / min. Please try again in 20s. Contact us through our help center at help.openai.com if you continue to have issues. Please add a payment method to your account to increase your rate limit. Visit https://platform.openai.com/account/billing to add a payment method..\n",
            "Retrying langchain.chat_models.openai.ChatOpenAI.completion_with_retry.<locals>._completion_with_retry in 4.0 seconds as it raised RateLimitError: Rate limit reached for default-gpt-3.5-turbo in organization org-NgmXnpBpFaLLIbFlmm27vgpu on requests per min. Limit: 3 / min. Please try again in 20s. Contact us through our help center at help.openai.com if you continue to have issues. Please add a payment method to your account to increase your rate limit. Visit https://platform.openai.com/account/billing to add a payment method..\n",
            "Retrying langchain.chat_models.openai.ChatOpenAI.completion_with_retry.<locals>._completion_with_retry in 4.0 seconds as it raised RateLimitError: Rate limit reached for default-gpt-3.5-turbo in organization org-NgmXnpBpFaLLIbFlmm27vgpu on requests per min. Limit: 3 / min. Please try again in 20s. Contact us through our help center at help.openai.com if you continue to have issues. Please add a payment method to your account to increase your rate limit. Visit https://platform.openai.com/account/billing to add a payment method..\n",
            "Retrying langchain.chat_models.openai.ChatOpenAI.completion_with_retry.<locals>._completion_with_retry in 4.0 seconds as it raised RateLimitError: Rate limit reached for default-gpt-3.5-turbo in organization org-NgmXnpBpFaLLIbFlmm27vgpu on requests per min. Limit: 3 / min. Please try again in 20s. Contact us through our help center at help.openai.com if you continue to have issues. Please add a payment method to your account to increase your rate limit. Visit https://platform.openai.com/account/billing to add a payment method..\n",
            "Retrying langchain.chat_models.openai.ChatOpenAI.completion_with_retry.<locals>._completion_with_retry in 8.0 seconds as it raised RateLimitError: Rate limit reached for default-gpt-3.5-turbo in organization org-NgmXnpBpFaLLIbFlmm27vgpu on requests per min. Limit: 3 / min. Please try again in 20s. Contact us through our help center at help.openai.com if you continue to have issues. Please add a payment method to your account to increase your rate limit. Visit https://platform.openai.com/account/billing to add a payment method..\n",
            "Retrying langchain.chat_models.openai.ChatOpenAI.completion_with_retry.<locals>._completion_with_retry in 4.0 seconds as it raised RateLimitError: Rate limit reached for default-gpt-3.5-turbo in organization org-NgmXnpBpFaLLIbFlmm27vgpu on requests per min. Limit: 3 / min. Please try again in 20s. Contact us through our help center at help.openai.com if you continue to have issues. Please add a payment method to your account to increase your rate limit. Visit https://platform.openai.com/account/billing to add a payment method..\n",
            "Retrying langchain.chat_models.openai.ChatOpenAI.completion_with_retry.<locals>._completion_with_retry in 4.0 seconds as it raised RateLimitError: Rate limit reached for default-gpt-3.5-turbo in organization org-NgmXnpBpFaLLIbFlmm27vgpu on requests per min. Limit: 3 / min. Please try again in 20s. Contact us through our help center at help.openai.com if you continue to have issues. Please add a payment method to your account to increase your rate limit. Visit https://platform.openai.com/account/billing to add a payment method..\n",
            "Retrying langchain.chat_models.openai.ChatOpenAI.completion_with_retry.<locals>._completion_with_retry in 4.0 seconds as it raised RateLimitError: Rate limit reached for default-gpt-3.5-turbo in organization org-NgmXnpBpFaLLIbFlmm27vgpu on requests per min. Limit: 3 / min. Please try again in 20s. Contact us through our help center at help.openai.com if you continue to have issues. Please add a payment method to your account to increase your rate limit. Visit https://platform.openai.com/account/billing to add a payment method..\n"
          ]
        }
      ],
      "source": [
        "summary_chain = load_summarize_chain(\n",
        "    llm=llm,\n",
        "    chain_type='map_reduce',\n",
        "    map_prompt=map_prompt_template,\n",
        "    combine_prompt=combine_prompt_template,\n",
        "    verbose=False\n",
        ")\n",
        "output = summary_chain.run(chunks)"
      ]
    },
    {
      "cell_type": "code",
      "execution_count": 32,
      "id": "67ed0744",
      "metadata": {
        "id": "67ed0744",
        "outputId": "0b285b3e-ba17-4744-ce97-055c0e04b3a3"
      },
      "outputs": [
        {
          "name": "stdout",
          "output_type": "stream",
          "text": [
            "Title: Steve Jobs' Speech on Life Lessons and Following Your Passion\n",
            "\n",
            "Introduction:\n",
            "In this speech, Steve Jobs shares three stories from his life, highlighting the importance of following one's passion and not settling for anything less. He discusses how his experiences with dropping out of college, getting fired from Apple, and battling cancer shaped his perspective on life.\n",
            "\n",
            "Key Points:\n",
            "- Story 1: Jobs dropped out of college and took a calligraphy class, which later influenced the design of the Macintosh computer.\n",
            "- Story 2: Getting fired from Apple led Jobs to start new ventures and find success.\n",
            "- Story 3: Jobs' experience with cancer reminded him of the importance of living each day to the fullest.\n",
            "- Jobs encourages the audience to follow their passions and not be influenced by others' opinions.\n",
            "- The text discusses the inevitability of death and emphasizes the importance of living one's own life.\n",
            "- Following one's heart and intuition is emphasized.\n",
            "- The text mentions The Whole Earth Catalog and its message of staying hungry and staying foolish.\n",
            "- Jobs encourages the audience to embrace these qualities as they begin a new chapter in their lives.\n",
            "\n",
            "Conclusion:\n",
            "Steve Jobs' speech highlights the significance of following one's passion, living life to the fullest, and not being swayed by others' opinions. He encourages the audience to embrace their own path and stay hungry and foolish as they embark on new journeys.\n"
          ]
        }
      ],
      "source": [
        "print(output)"
      ]
    },
    {
      "cell_type": "markdown",
      "id": "20c5b0dc",
      "metadata": {
        "id": "20c5b0dc"
      },
      "source": [
        "### Summarizing Using the refine Chain"
      ]
    },
    {
      "cell_type": "code",
      "execution_count": 1,
      "id": "9cce0f56",
      "metadata": {
        "id": "9cce0f56"
      },
      "outputs": [],
      "source": [
        "from langchain.chat_models import ChatOpenAI\n",
        "from langchain import PromptTemplate\n",
        "from langchain.chains.summarize import load_summarize_chain\n",
        "from langchain.text_splitter import RecursiveCharacterTextSplitter\n",
        "from langchain.document_loaders import UnstructuredPDFLoader"
      ]
    },
    {
      "cell_type": "code",
      "execution_count": 2,
      "id": "6e448dea",
      "metadata": {
        "id": "6e448dea",
        "outputId": "befc13f1-a584-4044-8b8b-3437a33bf2e7"
      },
      "outputs": [
        {
          "data": {
            "text/plain": [
              "True"
            ]
          },
          "execution_count": 2,
          "metadata": {},
          "output_type": "execute_result"
        }
      ],
      "source": [
        "import os\n",
        "from dotenv import load_dotenv, find_dotenv\n",
        "load_dotenv(find_dotenv(), override=True)"
      ]
    },
    {
      "cell_type": "code",
      "execution_count": 3,
      "id": "8b1e2c35",
      "metadata": {
        "id": "8b1e2c35",
        "outputId": "fa5a4ce3-0f17-4216-b497-1e892dab1702",
        "scrolled": true
      },
      "outputs": [
        {
          "name": "stderr",
          "output_type": "stream",
          "text": [
            "[nltk_data] Downloading package punkt to /home/paul/nltk_data...\n",
            "[nltk_data]   Unzipping tokenizers/punkt.zip.\n",
            "[nltk_data] Downloading package averaged_perceptron_tagger to\n",
            "[nltk_data]     /home/paul/nltk_data...\n",
            "[nltk_data]   Unzipping taggers/averaged_perceptron_tagger.zip.\n"
          ]
        }
      ],
      "source": [
        "loader = UnstructuredPDFLoader('../files/attention_is_all_you_need.pdf')\n",
        "data = loader.load()"
      ]
    },
    {
      "cell_type": "code",
      "execution_count": 4,
      "id": "4c6d22b5",
      "metadata": {
        "id": "4c6d22b5"
      },
      "outputs": [],
      "source": [
        "# print(data[0].page_content)"
      ]
    },
    {
      "cell_type": "code",
      "execution_count": 5,
      "id": "62c5f5d1",
      "metadata": {
        "id": "62c5f5d1"
      },
      "outputs": [],
      "source": [
        "text_splitter = RecursiveCharacterTextSplitter(chunk_size=10000, chunk_overlap=100)\n",
        "chunks = text_splitter.split_documents(data)"
      ]
    },
    {
      "cell_type": "code",
      "execution_count": 6,
      "id": "a69020a2",
      "metadata": {
        "id": "a69020a2",
        "outputId": "320fbb07-a926-476a-ff10-46fe62059a9e"
      },
      "outputs": [
        {
          "data": {
            "text/plain": [
              "5"
            ]
          },
          "execution_count": 6,
          "metadata": {},
          "output_type": "execute_result"
        }
      ],
      "source": [
        "len(chunks)"
      ]
    },
    {
      "cell_type": "code",
      "execution_count": 7,
      "id": "caf44956",
      "metadata": {
        "id": "caf44956"
      },
      "outputs": [],
      "source": [
        "llm = ChatOpenAI(temperature=0, model_name='gpt-3.5-turbo')"
      ]
    },
    {
      "cell_type": "code",
      "execution_count": 8,
      "id": "7d626857",
      "metadata": {
        "id": "7d626857",
        "outputId": "0237a937-5c4c-4140-c204-00b1f59fce2f"
      },
      "outputs": [
        {
          "name": "stdout",
          "output_type": "stream",
          "text": [
            "Total Tokens: 10041\n",
            "Embedding Cost in USD: 0.020082\n"
          ]
        }
      ],
      "source": [
        "def print_embedding_cost(texts):\n",
        "    import tiktoken\n",
        "    enc = tiktoken.encoding_for_model('gpt-3.5-turbo')\n",
        "    total_tokens = sum([len(enc.encode(page.page_content)) for page in texts])\n",
        "    print(f'Total Tokens: {total_tokens}')\n",
        "    print(f'Embedding Cost in USD: {total_tokens / 1000 * 0.002:.6f}')\n",
        "\n",
        "\n",
        "print_embedding_cost(chunks)"
      ]
    },
    {
      "cell_type": "code",
      "execution_count": 9,
      "id": "ff6bb943",
      "metadata": {
        "collapsed": true,
        "id": "ff6bb943",
        "outputId": "d9bc07dd-f0db-4021-af89-e9202dff7b8b"
      },
      "outputs": [
        {
          "name": "stdout",
          "output_type": "stream",
          "text": [
            "\n",
            "\n",
            "\u001b[1m> Entering new RefineDocumentsChain chain...\u001b[0m\n",
            "\n",
            "\n",
            "\u001b[1m> Entering new LLMChain chain...\u001b[0m\n",
            "Prompt after formatting:\n",
            "\u001b[32;1m\u001b[1;3mWrite a concise summary of the following:\n",
            "\n",
            "\n",
            "\"Attention Is All You Need\n",
            "\n",
            "7 1 0 2 c e D 6\n",
            "\n",
            "Ashish Vaswani∗ Google Brain avaswani@google.com\n",
            "\n",
            "Llion Jones∗ Google Research llion@google.com\n",
            "\n",
            "Noam Shazeer∗ Google Brain noam@google.com\n",
            "\n",
            "Niki Parmar∗ Google Research nikip@google.com\n",
            "\n",
            "Jakob Uszkoreit∗ Google Research usz@google.com\n",
            "\n",
            "Aidan N. Gomez∗ † University of Toronto aidan@cs.toronto.edu\n",
            "\n",
            "Łukasz Kaiser∗ Google Brain lukaszkaiser@google.com\n",
            "\n",
            "Illia Polosukhin∗ ‡ illia.polosukhin@gmail.com\n",
            "\n",
            "] L C . s c [\n",
            "\n",
            "5 v 2 6 7 3 0 . 6 0 7 1 : v i X r a\n",
            "\n",
            "1\n",
            "\n",
            "Abstract\n",
            "\n",
            "The dominant sequence transduction models are based on complex recurrent or convolutional neural networks that include an encoder and a decoder. The best performing models also connect the encoder and decoder through an attention mechanism. We propose a new simple network architecture, the Transformer, based solely on attention mechanisms, dispensing with recurrence and convolutions entirely. Experiments on two machine translation tasks show these models to be superior in quality while being more parallelizable and requiring signiﬁcantly less time to train. Our model achieves 28.4 BLEU on the WMT 2014 English- to-German translation task, improving over the existing best results, including ensembles, by over 2 BLEU. On the WMT 2014 English-to-French translation task, our model establishes a new single-model state-of-the-art BLEU score of 41.8 after training for 3.5 days on eight GPUs, a small fraction of the training costs of the best models from the literature. We show that the Transformer generalizes well to other tasks by applying it successfully to English constituency parsing both with large and limited training data.\n",
            "\n",
            "Introduction\n",
            "\n",
            "Recurrent neural networks, long short-term memory [13] and gated recurrent [7] neural networks in particular, have been ﬁrmly established as state of the art approaches in sequence modeling and\n",
            "\n",
            "∗Equal contribution. Listing order is random. Jakob proposed replacing RNNs with self-attention and started the effort to evaluate this idea. Ashish, with Illia, designed and implemented the ﬁrst Transformer models and has been crucially involved in every aspect of this work. Noam proposed scaled dot-product attention, multi-head attention and the parameter-free position representation and became the other person involved in nearly every detail. Niki designed, implemented, tuned and evaluated countless model variants in our original codebase and tensor2tensor. Llion also experimented with novel model variants, was responsible for our initial codebase, and efﬁcient inference and visualizations. Lukasz and Aidan spent countless long days designing various parts of and implementing tensor2tensor, replacing our earlier codebase, greatly improving results and massively accelerating our research.\n",
            "\n",
            "†Work performed while at Google Brain. ‡Work performed while at Google Research.\n",
            "\n",
            "31st Conference on Neural Information Processing Systems (NIPS 2017), Long Beach, CA, USA.\n",
            "\n",
            "transduction problems such as language modeling and machine translation [35, 2, 5]. Numerous efforts have since continued to push the boundaries of recurrent language models and encoder-decoder architectures [38, 24, 15].\n",
            "\n",
            "Recurrent models typically factor computation along the symbol positions of the input and output sequences. Aligning the positions to steps in computation time, they generate a sequence of hidden states ht, as a function of the previous hidden state ht−1 and the input for position t. This inherently sequential nature precludes parallelization within training examples, which becomes critical at longer sequence lengths, as memory constraints limit batching across examples. Recent work has achieved signiﬁcant improvements in computational efﬁciency through factorization tricks [21] and conditional computation [32], while also improving model performance in case of the latter. The fundamental constraint of sequential computation, however, remains.\n",
            "\n",
            "Attention mechanisms have become an integral part of compelling sequence modeling and transduc- tion models in various tasks, allowing modeling of dependencies without regard to their distance in the input or output sequences [2, 19]. In all but a few cases [27], however, such attention mechanisms are used in conjunction with a recurrent network.\n",
            "\n",
            "In this work we propose the Transformer, a model architecture eschewing recurrence and instead relying entirely on an attention mechanism to draw global dependencies between input and output. The Transformer allows for signiﬁcantly more parallelization and can reach a new state of the art in translation quality after being trained for as little as twelve hours on eight P100 GPUs.\n",
            "\n",
            "2 Background\n",
            "\n",
            "The goal of reducing sequential computation also forms the foundation of the Extended Neural GPU [16], ByteNet [18] and ConvS2S [9], all of which use convolutional neural networks as basic building block, computing hidden representations in parallel for all input and output positions. In these models, the number of operations required to relate signals from two arbitrary input or output positions grows in the distance between positions, linearly for ConvS2S and logarithmically for ByteNet. This makes it more difﬁcult to learn dependencies between distant positions [12]. In the Transformer this is reduced to a constant number of operations, albeit at the cost of reduced effective resolution due to averaging attention-weighted positions, an effect we counteract with Multi-Head Attention as described in section 3.2.\n",
            "\n",
            "Self-attention, sometimes called intra-attention is an attention mechanism relating different positions of a single sequence in order to compute a representation of the sequence. Self-attention has been used successfully in a variety of tasks including reading comprehension, abstractive summarization, textual entailment and learning task-independent sentence representations [4, 27, 28, 22].\n",
            "\n",
            "End-to-end memory networks are based on a recurrent attention mechanism instead of sequence- aligned recurrence and have been shown to perform well on simple-language question answering and language modeling tasks [34].\n",
            "\n",
            "To the best of our knowledge, however, the Transformer is the ﬁrst transduction model relying entirely on self-attention to compute representations of its input and output without using sequence- aligned RNNs or convolution. In the following sections, we will describe the Transformer, motivate self-attention and discuss its advantages over models such as [17, 18] and [9].\n",
            "\n",
            "3 Model Architecture\n",
            "\n",
            "Most competitive neural sequence transduction models have an encoder-decoder structure [5, 2, 35]. Here, the encoder maps an input sequence of symbol representations (x1, ..., xn) to a sequence of continuous representations z = (z1, ..., zn). Given z, the decoder then generates an output sequence (y1, ..., ym) of symbols one element at a time. At each step the model is auto-regressive [10], consuming the previously generated symbols as additional input when generating the next.\n",
            "\n",
            "The Transformer follows this overall architecture using stacked self-attention and point-wise, fully connected layers for both the encoder and decoder, shown in the left and right halves of Figure 1, respectively.\n",
            "\n",
            "2\n",
            "\n",
            "Figure 1: The Transformer - model architecture.\n",
            "\n",
            "3.1 Encoder and Decoder Stacks\n",
            "\n",
            "Encoder: The encoder is composed of a stack of N = 6 identical layers. Each layer has two sub-layers. The ﬁrst is a multi-head self-attention mechanism, and the second is a simple, position- wise fully connected feed-forward network. We employ a residual connection [11] around each of the two sub-layers, followed by layer normalization [1]. That is, the output of each sub-layer is LayerNorm(x + Sublayer(x)), where Sublayer(x) is the function implemented by the sub-layer itself. To facilitate these residual connections, all sub-layers in the model, as well as the embedding layers, produce outputs of dimension dmodel = 512.\n",
            "\n",
            "Decoder: The decoder is also composed of a stack of N = 6 identical layers. In addition to the two sub-layers in each encoder layer, the decoder inserts a third sub-layer, which performs multi-head attention over the output of the encoder stack. Similar to the encoder, we employ residual connections around each of the sub-layers, followed by layer normalization. We also modify the self-attention sub-layer in the decoder stack to prevent positions from attending to subsequent positions. This masking, combined with fact that the output embeddings are offset by one position, ensures that the predictions for position i can depend only on the known outputs at positions less than i.\n",
            "\n",
            "3.2 Attention\n",
            "\n",
            "An attention function can be described as mapping a query and a set of key-value pairs to an output, where the query, keys, values, and output are all vectors. The output is computed as a weighted sum of the values, where the weight assigned to each value is computed by a compatibility function of the query with the corresponding key.\n",
            "\n",
            "3\n",
            "\n",
            "Scaled Dot-Product Attention\n",
            "\n",
            "Multi-Head Attention\n",
            "\n",
            "Figure 2: (left) Scaled Dot-Product Attention. (right) Multi-Head Attention consists of several attention layers running in parallel.\n",
            "\n",
            "3.2.1 Scaled Dot-Product Attention\n",
            "\n",
            "We call our particular attention \"Scaled Dot-Product Attention\" (Figure 2). The input consists of queries and keys of dimension dk, and values of dimension dv. We compute the dot products of the dk, and apply a softmax function to obtain the weights on the query with all keys, divide each by values.\n",
            "\n",
            "√\n",
            "\n",
            "In practice, we compute the attention function on a set of queries simultaneously, packed together into a matrix Q. The keys and values are also packed together into matrices K and V . We compute the matrix of outputs as:\n",
            "\n",
            "Attention(Q, K, V ) = softmax(\n",
            "\n",
            "QK T √ dk\n",
            "\n",
            ")V\n",
            "\n",
            "(1)\"\n",
            "\n",
            "\n",
            "CONCISE SUMMARY:\u001b[0m\n"
          ]
        },
        {
          "name": "stdout",
          "output_type": "stream",
          "text": [
            "\n",
            "\u001b[1m> Finished chain.\u001b[0m\n",
            "\n",
            "\n",
            "\u001b[1m> Entering new LLMChain chain...\u001b[0m\n",
            "Prompt after formatting:\n",
            "\u001b[32;1m\u001b[1;3mYour job is to produce a final summary.\n",
            "We have provided an existing summary up to a certain point: The paper introduces a new network architecture called the Transformer, which is based solely on attention mechanisms and does not use recurrent or convolutional neural networks. The Transformer model achieves superior results in machine translation tasks, is more parallelizable, and requires less training time compared to existing models. The paper also discusses the advantages of self-attention and describes the architecture of the Transformer, including the encoder and decoder stacks and the attention mechanism used.\n",
            "We have the opportunity to refine the existing summary (only if needed) with some more context below.\n",
            "------------\n",
            "Attention(Q, K, V ) = softmax(\n",
            "\n",
            "QK T √ dk\n",
            "\n",
            ")V\n",
            "\n",
            "(1)\n",
            "\n",
            "The two most commonly used attention functions are additive attention [2], and dot-product (multi- plicative) attention. Dot-product attention is identical to our algorithm, except for the scaling factor of . Additive attention computes the compatibility function using a feed-forward network with a single hidden layer. While the two are similar in theoretical complexity, dot-product attention is much faster and more space-efﬁcient in practice, since it can be implemented using highly optimized matrix multiplication code.\n",
            "\n",
            "1√\n",
            "\n",
            "dk\n",
            "\n",
            "While for small values of dk the two mechanisms perform similarly, additive attention outperforms dot product attention without scaling for larger values of dk [3]. We suspect that for large values of dk, the dot products grow large in magnitude, pushing the softmax function into regions where it has extremely small gradients 4. To counteract this effect, we scale the dot products by 1√ dk\n",
            "\n",
            ".\n",
            "\n",
            "3.2.2 Multi-Head Attention\n",
            "\n",
            "Instead of performing a single attention function with dmodel-dimensional keys, values and queries, we found it beneﬁcial to linearly project the queries, keys and values h times with different, learned linear projections to dk, dk and dv dimensions, respectively. On each of these projected versions of queries, keys and values we then perform the attention function in parallel, yielding dv-dimensional output values. These are concatenated and once again projected, resulting in the ﬁnal values, as depicted in Figure 2.\n",
            "\n",
            "variables with mean 0 and variance 1. Then their dot product, q · k = (cid:80)dk\n",
            "\n",
            "4To illustrate why the dot products get large, assume that the components of q and k are independent random i=1 qiki, has mean 0 and variance dk.\n",
            "\n",
            "4\n",
            "\n",
            "Multi-head attention allows the model to jointly attend to information from different representation subspaces at different positions. With a single attention head, averaging inhibits this.\n",
            "\n",
            "MultiHead(Q, K, V ) = Concat(head1, ..., headh)W O\n",
            "\n",
            "where headi = Attention(QW Q\n",
            "\n",
            "i , KW K i\n",
            "\n",
            ", V W V\n",
            "\n",
            "i )\n",
            "\n",
            "Where the projections are parameter matrices W Q and W O ∈ Rhdv×dmodel.\n",
            "\n",
            "i ∈ Rdmodel×dk , W K\n",
            "\n",
            "i ∈ Rdmodel×dk , W V\n",
            "\n",
            "i ∈ Rdmodel×dv\n",
            "\n",
            "In this work we employ h = 8 parallel attention layers, or heads. For each of these we use dk = dv = dmodel/h = 64. Due to the reduced dimension of each head, the total computational cost is similar to that of single-head attention with full dimensionality.\n",
            "\n",
            "3.2.3 Applications of Attention in our Model\n",
            "\n",
            "The Transformer uses multi-head attention in three different ways:\n",
            "\n",
            "In \"encoder-decoder attention\" layers, the queries come from the previous decoder layer, and the memory keys and values come from the output of the encoder. This allows every position in the decoder to attend over all positions in the input sequence. This mimics the typical encoder-decoder attention mechanisms in sequence-to-sequence models such as [38, 2, 9].\n",
            "\n",
            "The encoder contains self-attention layers. In a self-attention layer all of the keys, values and queries come from the same place, in this case, the output of the previous layer in the encoder. Each position in the encoder can attend to all positions in the previous layer of the encoder.\n",
            "\n",
            "Similarly, self-attention layers in the decoder allow each position in the decoder to attend to all positions in the decoder up to and including that position. We need to prevent leftward information ﬂow in the decoder to preserve the auto-regressive property. We implement this inside of scaled dot-product attention by masking out (setting to −∞) all values in the input of the softmax which correspond to illegal connections. See Figure 2.\n",
            "\n",
            "3.3 Position-wise Feed-Forward Networks\n",
            "\n",
            "In addition to attention sub-layers, each of the layers in our encoder and decoder contains a fully connected feed-forward network, which is applied to each position separately and identically. This consists of two linear transformations with a ReLU activation in between.\n",
            "\n",
            "FFN(x) = max(0, xW1 + b1)W2 + b2\n",
            "\n",
            "(2)\n",
            "\n",
            "While the linear transformations are the same across different positions, they use different parameters from layer to layer. Another way of describing this is as two convolutions with kernel size 1. The dimensionality of input and output is dmodel = 512, and the inner-layer has dimensionality df f = 2048.\n",
            "\n",
            "3.4 Embeddings and Softmax\n",
            "\n",
            "Similarly to other sequence transduction models, we use learned embeddings to convert the input tokens and output tokens to vectors of dimension dmodel. We also use the usual learned linear transfor- mation and softmax function to convert the decoder output to predicted next-token probabilities. In our model, we share the same weight matrix between the two embedding layers and the pre-softmax dmodel. linear transformation, similar to [30]. In the embedding layers, we multiply those weights by\n",
            "\n",
            "√\n",
            "\n",
            "3.5 Positional Encoding\n",
            "\n",
            "Since our model contains no recurrence and no convolution, in order for the model to make use of the order of the sequence, we must inject some information about the relative or absolute position of the\n",
            "\n",
            "5\n",
            "\n",
            "Table 1: Maximum path lengths, per-layer complexity and minimum number of sequential operations for different layer types. n is the sequence length, d is the representation dimension, k is the kernel size of convolutions and r the size of the neighborhood in restricted self-attention.\n",
            "\n",
            "Layer Type\n",
            "\n",
            "Self-Attention Recurrent Convolutional Self-Attention (restricted)\n",
            "\n",
            "Complexity per Layer\n",
            "\n",
            "O(n2 · d) O(n · d2) O(k · n · d2) O(r · n · d)\n",
            "\n",
            "Sequential Maximum Path Length Operations O(1) O(n) O(1) O(1)\n",
            "\n",
            "O(1) O(n) O(logk(n)) O(n/r)\n",
            "\n",
            "tokens in the sequence. To this end, we add \"positional encodings\" to the input embeddings at the bottoms of the encoder and decoder stacks. The positional encodings have the same dimension dmodel as the embeddings, so that the two can be summed. There are many choices of positional encodings, learned and ﬁxed [9].\n",
            "\n",
            "In this work, we use sine and cosine functions of different frequencies:\n",
            "\n",
            "P E(pos,2i) = sin(pos/100002i/dmodel) P E(pos,2i+1) = cos(pos/100002i/dmodel)\n",
            "\n",
            "where pos is the position and i is the dimension. That is, each dimension of the positional encoding corresponds to a sinusoid. The wavelengths form a geometric progression from 2π to 10000 · 2π. We chose this function because we hypothesized it would allow the model to easily learn to attend by relative positions, since for any ﬁxed offset k, P Epos+k can be represented as a linear function of P Epos.\n",
            "\n",
            "We also experimented with using learned positional embeddings [9] instead, and found that the two versions produced nearly identical results (see Table 3 row (E)). We chose the sinusoidal version because it may allow the model to extrapolate to sequence lengths longer than the ones encountered during training.\n",
            "\n",
            "4 Why Self-Attention\n",
            "\n",
            "In this section we compare various aspects of self-attention layers to the recurrent and convolu- tional layers commonly used for mapping one variable-length sequence of symbol representations (x1, ..., xn) to another sequence of equal length (z1, ..., zn), with xi, zi ∈ Rd, such as a hidden layer in a typical sequence transduction encoder or decoder. Motivating our use of self-attention we consider three desiderata.\n",
            "\n",
            "One is the total computational complexity per layer. Another is the amount of computation that can be parallelized, as measured by the minimum number of sequential operations required.\n",
            "\n",
            "The third is the path length between long-range dependencies in the network. Learning long-range dependencies is a key challenge in many sequence transduction tasks. One key factor affecting the ability to learn such dependencies is the length of the paths forward and backward signals have to traverse in the network. The shorter these paths between any combination of positions in the input and output sequences, the easier it is to learn long-range dependencies [12]. Hence we also compare the maximum path length between any two input and output positions in networks composed of the different layer types.\n",
            "\n",
            "As noted in Table 1, a self-attention layer connects all positions with a constant number of sequentially executed operations, whereas a recurrent layer requires O(n) sequential operations. In terms of computational complexity, self-attention layers are faster than recurrent layers when the sequence length n is smaller than the representation dimensionality d, which is most often the case with sentence representations used by state-of-the-art models in machine translations, such as word-piece [38] and byte-pair [31] representations. To improve computational performance for tasks involving very long sequences, self-attention could be restricted to considering only a neighborhood of size r in\n",
            "\n",
            "6\n",
            "\n",
            "the input sequence centered around the respective output position. This would increase the maximum path length to O(n/r). We plan to investigate this approach further in future work.\n",
            "\n",
            "A single convolutional layer with kernel width k < n does not connect all pairs of input and output positions. Doing so requires a stack of O(n/k) convolutional layers in the case of contiguous kernels, or O(logk(n)) in the case of dilated convolutions [18], increasing the length of the longest paths between any two positions in the network. Convolutional layers are generally more expensive than recurrent layers, by a factor of k. Separable convolutions [6], however, decrease the complexity considerably, to O(k · n · d + n · d2). Even with k = n, however, the complexity of a separable convolution is equal to the combination of a self-attention layer and a point-wise feed-forward layer, the approach we take in our model.\n",
            "------------\n",
            "Given the new context, refine the original summary.\n",
            "If the context isn't useful, return the original summary.\u001b[0m\n",
            "\n",
            "\u001b[1m> Finished chain.\u001b[0m\n",
            "\n",
            "\n",
            "\u001b[1m> Entering new LLMChain chain...\u001b[0m\n",
            "Prompt after formatting:\n",
            "\u001b[32;1m\u001b[1;3mYour job is to produce a final summary.\n",
            "We have provided an existing summary up to a certain point: The paper introduces the Transformer, a network architecture based solely on attention mechanisms, which achieves superior results in machine translation tasks compared to existing models. The Transformer is more parallelizable and requires less training time. The paper also discusses the advantages of self-attention and describes the architecture of the Transformer, including the encoder and decoder stacks and the attention mechanism used. The paper further compares self-attention layers to recurrent and convolutional layers in terms of computational complexity, parallelizability, and the length of paths between long-range dependencies in the network.\n",
            "We have the opportunity to refine the existing summary (only if needed) with some more context below.\n",
            "------------\n",
            "As side beneﬁt, self-attention could yield more interpretable models. We inspect attention distributions from our models and present and discuss examples in the appendix. Not only do individual attention heads clearly learn to perform different tasks, many appear to exhibit behavior related to the syntactic and semantic structure of the sentences.\n",
            "\n",
            "5 Training\n",
            "\n",
            "This section describes the training regime for our models.\n",
            "\n",
            "5.1 Training Data and Batching\n",
            "\n",
            "We trained on the standard WMT 2014 English-German dataset consisting of about 4.5 million sentence pairs. Sentences were encoded using byte-pair encoding [3], which has a shared source- target vocabulary of about 37000 tokens. For English-French, we used the signiﬁcantly larger WMT 2014 English-French dataset consisting of 36M sentences and split tokens into a 32000 word-piece vocabulary [38]. Sentence pairs were batched together by approximate sequence length. Each training batch contained a set of sentence pairs containing approximately 25000 source tokens and 25000 target tokens.\n",
            "\n",
            "5.2 Hardware and Schedule\n",
            "\n",
            "We trained our models on one machine with 8 NVIDIA P100 GPUs. For our base models using the hyperparameters described throughout the paper, each training step took about 0.4 seconds. We trained the base models for a total of 100,000 steps or 12 hours. For our big models,(described on the bottom line of table 3), step time was 1.0 seconds. The big models were trained for 300,000 steps (3.5 days).\n",
            "\n",
            "5.3 Optimizer\n",
            "\n",
            "We used the Adam optimizer [20] with β1 = 0.9, β2 = 0.98 and (cid:15) = 10−9. We varied the learning rate over the course of training, according to the formula:\n",
            "\n",
            "lrate = d−0.5\n",
            "\n",
            "model · min(step_num−0.5, step_num · warmup_steps−1.5)\n",
            "\n",
            "(3)\n",
            "\n",
            "This corresponds to increasing the learning rate linearly for the ﬁrst warmup_steps training steps, and decreasing it thereafter proportionally to the inverse square root of the step number. We used warmup_steps = 4000.\n",
            "\n",
            "5.4 Regularization\n",
            "\n",
            "We employ three types of regularization during training:\n",
            "\n",
            "Residual Dropout We apply dropout [33] to the output of each sub-layer, before it is added to the sub-layer input and normalized. In addition, we apply dropout to the sums of the embeddings and the positional encodings in both the encoder and decoder stacks. For the base model, we use a rate of Pdrop = 0.1.\n",
            "\n",
            "7\n",
            "\n",
            "Table 2: The Transformer achieves better BLEU scores than previous state-of-the-art models on the English-to-German and English-to-French newstest2014 tests at a fraction of the training cost.\n",
            "\n",
            "Model\n",
            "\n",
            "ByteNet [18] Deep-Att + PosUnk [39] GNMT + RL [38] ConvS2S [9] MoE [32] Deep-Att + PosUnk Ensemble [39] GNMT + RL Ensemble [38] ConvS2S Ensemble [9] Transformer (base model) Transformer (big)\n",
            "\n",
            "BLEU\n",
            "\n",
            "EN-DE EN-FR 23.75\n",
            "\n",
            "24.6 25.16 26.03\n",
            "\n",
            "26.30 26.36 27.3 28.4\n",
            "\n",
            "39.2 39.92 40.46 40.56 40.4 41.16 41.29 38.1 41.8\n",
            "\n",
            "Training Cost (FLOPs)\n",
            "\n",
            "EN-DE\n",
            "\n",
            "EN-FR\n",
            "\n",
            "2.3 · 1019 9.6 · 1018 2.0 · 1019\n",
            "\n",
            "1.8 · 1020 7.7 · 1019\n",
            "\n",
            "1.0 · 1020 1.4 · 1020 1.5 · 1020 1.2 · 1020 8.0 · 1020 1.1 · 1021 1.2 · 1021\n",
            "\n",
            "3.3 · 1018 2.3 · 1019\n",
            "\n",
            "Label Smoothing During training, we employed label smoothing of value (cid:15)ls = 0.1 [36]. This hurts perplexity, as the model learns to be more unsure, but improves accuracy and BLEU score.\n",
            "\n",
            "6 Results\n",
            "\n",
            "6.1 Machine Translation\n",
            "\n",
            "On the WMT 2014 English-to-German translation task, the big transformer model (Transformer (big) in Table 2) outperforms the best previously reported models (including ensembles) by more than 2.0 BLEU, establishing a new state-of-the-art BLEU score of 28.4. The conﬁguration of this model is listed in the bottom line of Table 3. Training took 3.5 days on 8 P100 GPUs. Even our base model surpasses all previously published models and ensembles, at a fraction of the training cost of any of the competitive models.\n",
            "\n",
            "On the WMT 2014 English-to-French translation task, our big model achieves a BLEU score of 41.0, outperforming all of the previously published single models, at less than 1/4 the training cost of the previous state-of-the-art model. The Transformer (big) model trained for English-to-French used dropout rate Pdrop = 0.1, instead of 0.3.\n",
            "\n",
            "For the base models, we used a single model obtained by averaging the last 5 checkpoints, which were written at 10-minute intervals. For the big models, we averaged the last 20 checkpoints. We used beam search with a beam size of 4 and length penalty α = 0.6 [38]. These hyperparameters were chosen after experimentation on the development set. We set the maximum output length during inference to input length + 50, but terminate early when possible [38].\n",
            "\n",
            "Table 2 summarizes our results and compares our translation quality and training costs to other model architectures from the literature. We estimate the number of ﬂoating point operations used to train a model by multiplying the training time, the number of GPUs used, and an estimate of the sustained single-precision ﬂoating-point capacity of each GPU 5.\n",
            "\n",
            "6.2 Model Variations\n",
            "\n",
            "To evaluate the importance of different components of the Transformer, we varied our base model in different ways, measuring the change in performance on English-to-German translation on the development set, newstest2013. We used beam search as described in the previous section, but no checkpoint averaging. We present these results in Table 3.\n",
            "\n",
            "In Table 3 rows (A), we vary the number of attention heads and the attention key and value dimensions, keeping the amount of computation constant, as described in Section 3.2.2. While single-head attention is 0.9 BLEU worse than the best setting, quality also drops off with too many heads.\n",
            "\n",
            "5We used values of 2.8, 3.7, 6.0 and 9.5 TFLOPS for K80, K40, M40 and P100, respectively.\n",
            "\n",
            "8\n",
            "\n",
            "Table 3: Variations on the Transformer architecture. Unlisted values are identical to those of the base model. All metrics are on the English-to-German translation development set, newstest2013. Listed perplexities are per-wordpiece, according to our byte-pair encoding, and should not be compared to per-word perplexities.\n",
            "\n",
            "base\n",
            "\n",
            "(A)\n",
            "\n",
            "(B)\n",
            "\n",
            "(C)\n",
            "\n",
            "(D)\n",
            "\n",
            "(E) big\n",
            "\n",
            "N dmodel\n",
            "\n",
            "dff\n",
            "\n",
            "h\n",
            "\n",
            "dk\n",
            "\n",
            "dv\n",
            "\n",
            "Pdrop\n",
            "\n",
            "(cid:15)ls\n",
            "\n",
            "6\n",
            "\n",
            "512\n",
            "\n",
            "2048\n",
            "\n",
            "8 1 4 16 32\n",
            "\n",
            "64 512 128 32 16 16 32\n",
            "\n",
            "64 512 128 32 16\n",
            "\n",
            "0.1\n",
            "\n",
            "0.1\n",
            "\n",
            "2 4 8\n",
            "\n",
            "256 1024\n",
            "\n",
            "32 128\n",
            "\n",
            "32 128\n",
            "\n",
            "1024 4096\n",
            "\n",
            "0.0 0.2\n",
            "\n",
            "0.0 0.2\n",
            "\n",
            "positional embedding instead of sinusoids\n",
            "\n",
            "6\n",
            "\n",
            "1024\n",
            "\n",
            "4096\n",
            "\n",
            "16\n",
            "\n",
            "0.3\n",
            "\n",
            "PPL train steps (dev) 100K 4.92 5.29 5.00 4.91 5.01 5.16 5.01 6.11 5.19 4.88 5.75 4.66 5.12 4.75 5.77 4.95 4.67 5.47 4.92 300K 4.33\n",
            "\n",
            "BLEU params ×106 (dev) 25.8 65 24.9 25.5 25.8 25.4 25.1 25.4 23.7 25.3 25.5 24.5 26.0 25.4 26.2 24.6 25.5 25.3 25.7 25.7 26.4\n",
            "\n",
            "58 60 36 50 80 28 168 53 90\n",
            "\n",
            "213\n",
            "\n",
            "Table 4: The Transformer generalizes well to English constituency parsing (Results are on Section 23 of WSJ)\n",
            "\n",
            "Parser\n",
            "\n",
            "Training\n",
            "\n",
            "Vinyals & Kaiser el al. (2014) [37] WSJ only, discriminative WSJ only, discriminative WSJ only, discriminative WSJ only, discriminative WSJ only, discriminative semi-supervised semi-supervised semi-supervised semi-supervised semi-supervised multi-task generative\n",
            "\n",
            "Petrov et al. (2006) [29] Zhu et al. (2013) [40] Dyer et al. (2016) [8] Transformer (4 layers) Zhu et al. (2013) [40] Huang & Harper (2009) [14] McClosky et al. (2006) [26] Vinyals & Kaiser el al. (2014) [37] Transformer (4 layers) Luong et al. (2015) [23] Dyer et al. (2016) [8]\n",
            "\n",
            "WSJ 23 F1 88.3 90.4 90.4 91.7 91.3 91.3 91.3 92.1 92.1 92.7 93.0 93.3\n",
            "\n",
            "In Table 3 rows (B), we observe that reducing the attention key size dk hurts model quality. This suggests that determining compatibility is not easy and that a more sophisticated compatibility function than dot product may be beneﬁcial. We further observe in rows (C) and (D) that, as expected, bigger models are better, and dropout is very helpful in avoiding over-ﬁtting. In row (E) we replace our sinusoidal positional encoding with learned positional embeddings [9], and observe nearly identical results to the base model.\n",
            "\n",
            "6.3 English Constituency Parsing\n",
            "\n",
            "To evaluate if the Transformer can generalize to other tasks we performed experiments on English constituency parsing. This task presents speciﬁc challenges: the output is subject to strong structural\n",
            "\n",
            "9\n",
            "\n",
            "constraints and is signiﬁcantly longer than the input. Furthermore, RNN sequence-to-sequence models have not been able to attain state-of-the-art results in small-data regimes [37].\n",
            "\n",
            "We trained a 4-layer transformer with dmodel = 1024 on the Wall Street Journal (WSJ) portion of the Penn Treebank [25], about 40K training sentences. We also trained it in a semi-supervised setting, using the larger high-conﬁdence and BerkleyParser corpora from with approximately 17M sentences [37]. We used a vocabulary of 16K tokens for the WSJ only setting and a vocabulary of 32K tokens for the semi-supervised setting.\n",
            "\n",
            "We performed only a small number of experiments to select the dropout, both attention and residual (section 5.4), learning rates and beam size on the Section 22 development set, all other parameters remained unchanged from the English-to-German base translation model. During inference, we increased the maximum output length to input length + 300. We used a beam size of 21 and α = 0.3 for both WSJ only and the semi-supervised setting.\n",
            "\n",
            "Our results in Table 4 show that despite the lack of task-speciﬁc tuning our model performs sur- prisingly well, yielding better results than all previously reported models with the exception of the Recurrent Neural Network Grammar [8].\n",
            "\n",
            "In contrast to RNN sequence-to-sequence models [37], the Transformer outperforms the Berkeley- Parser [29] even when training only on the WSJ training set of 40K sentences.\n",
            "\n",
            "7 Conclusion\n",
            "\n",
            "In this work, we presented the Transformer, the ﬁrst sequence transduction model based entirely on attention, replacing the recurrent layers most commonly used in encoder-decoder architectures with multi-headed self-attention.\n",
            "------------\n",
            "Given the new context, refine the original summary.\n",
            "If the context isn't useful, return the original summary.\u001b[0m\n",
            "\n",
            "\u001b[1m> Finished chain.\u001b[0m\n",
            "\n",
            "\n",
            "\u001b[1m> Entering new LLMChain chain...\u001b[0m\n",
            "Prompt after formatting:\n",
            "\u001b[32;1m\u001b[1;3mYour job is to produce a final summary.\n",
            "We have provided an existing summary up to a certain point: The paper introduces the Transformer, a network architecture based solely on attention mechanisms, which achieves superior results in machine translation tasks compared to existing models. The Transformer is more parallelizable and requires less training time. The paper also discusses the advantages of self-attention and describes the architecture of the Transformer, including the encoder and decoder stacks and the attention mechanism used. The paper further compares self-attention layers to recurrent and convolutional layers in terms of computational complexity, parallelizability, and the length of paths between long-range dependencies in the network. Additionally, the paper explores the interpretability of self-attention and presents examples of attention distributions related to the syntactic and semantic structure of sentences. The training regime, hardware, schedule, optimizer, and regularization techniques used for training the models are described. The paper also presents the results of machine translation tasks, where the Transformer outperforms previous models in terms of BLEU scores while requiring significantly less training cost. The importance of different components of the Transformer is evaluated, and the model's generalization to English constituency parsing is demonstrated.\n",
            "We have the opportunity to refine the existing summary (only if needed) with some more context below.\n",
            "------------\n",
            "For translation tasks, the Transformer can be trained signiﬁcantly faster than architectures based on recurrent or convolutional layers. On both WMT 2014 English-to-German and WMT 2014 English-to-French translation tasks, we achieve a new state of the art. In the former task our best model outperforms even all previously reported ensembles.\n",
            "\n",
            "We are excited about the future of attention-based models and plan to apply them to other tasks. We plan to extend the Transformer to problems involving input and output modalities other than text and to investigate local, restricted attention mechanisms to efﬁciently handle large inputs and outputs such as images, audio and video. Making generation less sequential is another research goals of ours.\n",
            "\n",
            "The code we used to train and evaluate our models is available at https://github.com/ tensorflow/tensor2tensor.\n",
            "\n",
            "Acknowledgements We are grateful to Nal Kalchbrenner and Stephan Gouws for their fruitful comments, corrections and inspiration.\n",
            "\n",
            "References\n",
            "\n",
            "[1] Jimmy Lei Ba, Jamie Ryan Kiros, and Geoffrey E Hinton. Layer normalization. arXiv preprint\n",
            "\n",
            "arXiv:1607.06450, 2016.\n",
            "\n",
            "[2] Dzmitry Bahdanau, Kyunghyun Cho, and Yoshua Bengio. Neural machine translation by jointly\n",
            "\n",
            "learning to align and translate. CoRR, abs/1409.0473, 2014.\n",
            "\n",
            "[3] Denny Britz, Anna Goldie, Minh-Thang Luong, and Quoc V. Le. Massive exploration of neural\n",
            "\n",
            "machine translation architectures. CoRR, abs/1703.03906, 2017.\n",
            "\n",
            "[4] Jianpeng Cheng, Li Dong, and Mirella Lapata. Long short-term memory-networks for machine\n",
            "\n",
            "reading. arXiv preprint arXiv:1601.06733, 2016.\n",
            "\n",
            "[5] Kyunghyun Cho, Bart van Merrienboer, Caglar Gulcehre, Fethi Bougares, Holger Schwenk, and Yoshua Bengio. Learning phrase representations using rnn encoder-decoder for statistical machine translation. CoRR, abs/1406.1078, 2014.\n",
            "\n",
            "[6] Francois Chollet. Xception: Deep learning with depthwise separable convolutions. arXiv\n",
            "\n",
            "preprint arXiv:1610.02357, 2016.\n",
            "\n",
            "10\n",
            "\n",
            "[7] Junyoung Chung, Çaglar Gülçehre, Kyunghyun Cho, and Yoshua Bengio. Empirical evaluation of gated recurrent neural networks on sequence modeling. CoRR, abs/1412.3555, 2014.\n",
            "\n",
            "[8] Chris Dyer, Adhiguna Kuncoro, Miguel Ballesteros, and Noah A. Smith. Recurrent neural\n",
            "\n",
            "network grammars. In Proc. of NAACL, 2016.\n",
            "\n",
            "[9] Jonas Gehring, Michael Auli, David Grangier, Denis Yarats, and Yann N. Dauphin. Convolu-\n",
            "\n",
            "tional sequence to sequence learning. arXiv preprint arXiv:1705.03122v2, 2017.\n",
            "\n",
            "[10] Alex Graves. Generating sequences with recurrent neural networks.\n",
            "\n",
            "arXiv:1308.0850, 2013.\n",
            "\n",
            "arXiv preprint\n",
            "\n",
            "[11] Kaiming He, Xiangyu Zhang, Shaoqing Ren, and Jian Sun. Deep residual learning for im- age recognition. In Proceedings of the IEEE Conference on Computer Vision and Pattern Recognition, pages 770–778, 2016.\n",
            "\n",
            "[12] Sepp Hochreiter, Yoshua Bengio, Paolo Frasconi, and Jürgen Schmidhuber. Gradient ﬂow in\n",
            "\n",
            "recurrent nets: the difﬁculty of learning long-term dependencies, 2001.\n",
            "\n",
            "[13] Sepp Hochreiter and Jürgen Schmidhuber. Long short-term memory. Neural computation,\n",
            "\n",
            "9(8):1735–1780, 1997.\n",
            "\n",
            "[14] Zhongqiang Huang and Mary Harper. Self-training PCFG grammars with latent annotations across languages. In Proceedings of the 2009 Conference on Empirical Methods in Natural Language Processing, pages 832–841. ACL, August 2009.\n",
            "\n",
            "[15] Rafal Jozefowicz, Oriol Vinyals, Mike Schuster, Noam Shazeer, and Yonghui Wu. Exploring\n",
            "\n",
            "the limits of language modeling. arXiv preprint arXiv:1602.02410, 2016.\n",
            "\n",
            "[16] Łukasz Kaiser and Samy Bengio. Can active memory replace attention? In Advances in Neural\n",
            "\n",
            "Information Processing Systems, (NIPS), 2016.\n",
            "\n",
            "[17] Łukasz Kaiser and Ilya Sutskever. Neural GPUs learn algorithms. In International Conference\n",
            "\n",
            "on Learning Representations (ICLR), 2016.\n",
            "\n",
            "[18] Nal Kalchbrenner, Lasse Espeholt, Karen Simonyan, Aaron van den Oord, Alex Graves, and Ko- ray Kavukcuoglu. Neural machine translation in linear time. arXiv preprint arXiv:1610.10099v2, 2017.\n",
            "\n",
            "[19] Yoon Kim, Carl Denton, Luong Hoang, and Alexander M. Rush. Structured attention networks.\n",
            "\n",
            "In International Conference on Learning Representations, 2017.\n",
            "\n",
            "[20] Diederik Kingma and Jimmy Ba. Adam: A method for stochastic optimization. In ICLR, 2015.\n",
            "\n",
            "[21] Oleksii Kuchaiev and Boris Ginsburg. Factorization tricks for LSTM networks. arXiv preprint\n",
            "\n",
            "arXiv:1703.10722, 2017.\n",
            "\n",
            "[22] Zhouhan Lin, Minwei Feng, Cicero Nogueira dos Santos, Mo Yu, Bing Xiang, Bowen Zhou, and Yoshua Bengio. A structured self-attentive sentence embedding. arXiv preprint arXiv:1703.03130, 2017.\n",
            "\n",
            "[23] Minh-Thang Luong, Quoc V. Le, Ilya Sutskever, Oriol Vinyals, and Lukasz Kaiser. Multi-task\n",
            "\n",
            "sequence to sequence learning. arXiv preprint arXiv:1511.06114, 2015.\n",
            "\n",
            "[24] Minh-Thang Luong, Hieu Pham, and Christopher D Manning. Effective approaches to attention-\n",
            "\n",
            "based neural machine translation. arXiv preprint arXiv:1508.04025, 2015.\n",
            "\n",
            "[25] Mitchell P Marcus, Mary Ann Marcinkiewicz, and Beatrice Santorini. Building a large annotated corpus of english: The penn treebank. Computational linguistics, 19(2):313–330, 1993.\n",
            "\n",
            "[26] David McClosky, Eugene Charniak, and Mark Johnson. Effective self-training for parsing. In Proceedings of the Human Language Technology Conference of the NAACL, Main Conference, pages 152–159. ACL, June 2006.\n",
            "\n",
            "11\n",
            "\n",
            "[27] Ankur Parikh, Oscar Täckström, Dipanjan Das, and Jakob Uszkoreit. A decomposable attention\n",
            "\n",
            "model. In Empirical Methods in Natural Language Processing, 2016.\n",
            "\n",
            "[28] Romain Paulus, Caiming Xiong, and Richard Socher. A deep reinforced model for abstractive\n",
            "\n",
            "summarization. arXiv preprint arXiv:1705.04304, 2017.\n",
            "\n",
            "[29] Slav Petrov, Leon Barrett, Romain Thibaux, and Dan Klein. Learning accurate, compact, and interpretable tree annotation. In Proceedings of the 21st International Conference on Computational Linguistics and 44th Annual Meeting of the ACL, pages 433–440. ACL, July 2006.\n",
            "\n",
            "[30] Oﬁr Press and Lior Wolf. Using the output embedding to improve language models. arXiv\n",
            "\n",
            "preprint arXiv:1608.05859, 2016.\n",
            "\n",
            "[31] Rico Sennrich, Barry Haddow, and Alexandra Birch. Neural machine translation of rare words\n",
            "\n",
            "with subword units. arXiv preprint arXiv:1508.07909, 2015.\n",
            "\n",
            "[32] Noam Shazeer, Azalia Mirhoseini, Krzysztof Maziarz, Andy Davis, Quoc Le, Geoffrey Hinton, and Jeff Dean. Outrageously large neural networks: The sparsely-gated mixture-of-experts layer. arXiv preprint arXiv:1701.06538, 2017.\n",
            "\n",
            "[33] Nitish Srivastava, Geoffrey E Hinton, Alex Krizhevsky, Ilya Sutskever, and Ruslan Salakhutdi- nov. Dropout: a simple way to prevent neural networks from overﬁtting. Journal of Machine Learning Research, 15(1):1929–1958, 2014.\n",
            "\n",
            "[34] Sainbayar Sukhbaatar, Arthur Szlam, Jason Weston, and Rob Fergus. End-to-end memory networks. In C. Cortes, N. D. Lawrence, D. D. Lee, M. Sugiyama, and R. Garnett, editors, Advances in Neural Information Processing Systems 28, pages 2440–2448. Curran Associates, Inc., 2015.\n",
            "\n",
            "[35] Ilya Sutskever, Oriol Vinyals, and Quoc VV Le. Sequence to sequence learning with neural\n",
            "\n",
            "networks. In Advances in Neural Information Processing Systems, pages 3104–3112, 2014.\n",
            "\n",
            "[36] Christian Szegedy, Vincent Vanhoucke, Sergey Ioffe, Jonathon Shlens, and Zbigniew Wojna. Rethinking the inception architecture for computer vision. CoRR, abs/1512.00567, 2015.\n",
            "\n",
            "[37] Vinyals & Kaiser, Koo, Petrov, Sutskever, and Hinton. Grammar as a foreign language. In\n",
            "\n",
            "Advances in Neural Information Processing Systems, 2015.\n",
            "\n",
            "[38] Yonghui Wu, Mike Schuster, Zhifeng Chen, Quoc V Le, Mohammad Norouzi, Wolfgang Macherey, Maxim Krikun, Yuan Cao, Qin Gao, Klaus Macherey, et al. Google’s neural machine translation system: Bridging the gap between human and machine translation. arXiv preprint arXiv:1609.08144, 2016.\n",
            "\n",
            "[39] Jie Zhou, Ying Cao, Xuguang Wang, Peng Li, and Wei Xu. Deep recurrent models with fast-forward connections for neural machine translation. CoRR, abs/1606.04199, 2016.\n",
            "\n",
            "[40] Muhua Zhu, Yue Zhang, Wenliang Chen, Min Zhang, and Jingbo Zhu. Fast and accurate shift-reduce constituent parsing. In Proceedings of the 51st Annual Meeting of the ACL (Volume 1: Long Papers), pages 434–443. ACL, August 2013.\n",
            "\n",
            "12\n",
            "\n",
            "Attention Visualizations\n",
            "\n",
            "that\n",
            "\n",
            "American\n",
            "\n",
            "American\n",
            "\n",
            "new\n",
            "\n",
            "new\n",
            "\n",
            "more\n",
            "\n",
            "more\n",
            "\n",
            "have\n",
            "\n",
            "have\n",
            "\n",
            "process\n",
            "\n",
            "process\n",
            "\n",
            "difficult\n",
            "\n",
            "difficult\n",
            "\n",
            "this\n",
            "\n",
            "this\n",
            "\n",
            "voting\n",
            "\n",
            "majority\n",
            "\n",
            "It\n",
            "\n",
            "of\n",
            "\n",
            "passed\n",
            "\n",
            "passed\n",
            "\n",
            "registration\n",
            "\n",
            "registration\n",
            "\n",
            "governments\n",
            "\n",
            "governments\n",
            "\n",
            "of\n",
            "\n",
            "It\n",
            "\n",
            "in\n",
            "\n",
            "in\n",
            "\n",
            "since\n",
            "\n",
            "since\n",
            "\n",
            "majority\n",
            "\n",
            "or\n",
            "\n",
            "voting\n",
            "\n",
            "<pad>\n",
            "\n",
            "that\n",
            "\n",
            "spirit\n",
            "\n",
            "spirit\n",
            "\n",
            "the\n",
            "\n",
            "the\n",
            "\n",
            "a\n",
            "\n",
            "a\n",
            "\n",
            ".\n",
            "\n",
            ".\n",
            "\n",
            "Input-Input Layer5\n",
            "\n",
            "<EOS>\n",
            "\n",
            "<EOS>\n",
            "\n",
            "<pad>\n",
            "\n",
            "<pad>\n",
            "\n",
            "laws\n",
            "\n",
            "<pad>\n",
            "\n",
            "making\n",
            "\n",
            "making\n",
            "\n",
            "is\n",
            "\n",
            "is\n",
            "\n",
            "2009\n",
            "\n",
            "2009\n",
            "\n",
            "laws\n",
            "\n",
            "<pad>\n",
            "\n",
            "<pad>\n",
            "\n",
            "<pad>\n",
            "\n",
            "<pad>\n",
            "\n",
            "<pad>\n",
            "\n",
            "<pad>\n",
            "\n",
            "<pad>\n",
            "\n",
            "<pad>\n",
            "\n",
            "or\n",
            "\n",
            "Figure 3: An example of the attention mechanism following long-distance dependencies in the encoder self-attention in layer 5 of 6. Many of the attention heads attend to a distant dependency of the verb ‘making’, completing the phrase ‘making...more difﬁcult’. Attentions here shown only for the word ‘making’. Different colors represent different heads. Best viewed in color.\n",
            "\n",
            "13\n",
            "\n",
            "my\n",
            "\n",
            "perfect\n",
            "\n",
            "is\n",
            "\n",
            "should\n",
            "\n",
            "its\n",
            "\n",
            "<pad>\n",
            "\n",
            "is\n",
            "\n",
            "\n",
            "\n",
            ",\n",
            "\n",
            "\n",
            "\n",
            "missing\n",
            "\n",
            "we\n",
            "\n",
            "<EOS>\n",
            "\n",
            "<EOS>\n",
            "\n",
            ",\n",
            "\n",
            ",\n",
            "\n",
            "never\n",
            "\n",
            "what\n",
            "\n",
            "what\n",
            "\n",
            "just\n",
            "\n",
            "just\n",
            "\n",
            "we\n",
            "\n",
            "Law\n",
            "\n",
            "but\n",
            "\n",
            "<pad>\n",
            "\n",
            "are\n",
            "\n",
            "Law\n",
            "\n",
            "The\n",
            "\n",
            "just\n",
            "\n",
            "what\n",
            "\n",
            "what\n",
            "\n",
            "never\n",
            "\n",
            "in\n",
            "\n",
            ".\n",
            "\n",
            "missing\n",
            "\n",
            "be\n",
            "\n",
            "opinion\n",
            "\n",
            "application\n",
            "\n",
            "this\n",
            "\n",
            "this\n",
            "\n",
            "my\n",
            "\n",
            "my\n",
            "\n",
            "will\n",
            "\n",
            "be\n",
            "\n",
            ".\n",
            "\n",
            "opinion\n",
            "\n",
            "The\n",
            "\n",
            "The\n",
            "\n",
            "are\n",
            "\n",
            "is\n",
            "\n",
            "is\n",
            "\n",
            "should\n",
            "\n",
            "its\n",
            "\n",
            "its\n",
            "\n",
            "<pad>\n",
            "\n",
            " Input-Input Layer5 The Law will never be perfect , but its application should be just\n",
            "\n",
            "\n",
            "\n",
            ".\n",
            "\n",
            "perfect\n",
            "\n",
            "we\n",
            "\n",
            "<EOS>\n",
            "\n",
            "<EOS>\n",
            "\n",
            ",\n",
            "\n",
            ",\n",
            "\n",
            ",\n",
            "\n",
            ",\n",
            "\n",
            "Input-Input Layer5\n",
            "\n",
            "but\n",
            "\n",
            "but\n",
            "\n",
            "we\n",
            "\n",
            "perfect\n",
            "\n",
            "missing\n",
            "\n",
            "missing\n",
            "\n",
            "Law\n",
            "\n",
            "are\n",
            "\n",
            "in\n",
            "\n",
            "never\n",
            "\n",
            "application\n",
            "\n",
            "in\n",
            "\n",
            "be\n",
            "\n",
            "be\n",
            "\n",
            "be\n",
            "\n",
            "be\n",
            "\n",
            "opinion\n",
            "\n",
            "opinion\n",
            "\n",
            "application\n",
            "\n",
            "this\n",
            "\n",
            "this\n",
            "\n",
            "my\n",
            "\n",
            "will\n",
            "\n",
            "will\n",
            "\n",
            "should\n",
            "\n",
            ".\n",
            "\n",
            " Input-Input Layer5 The Law will never be perfect , but its application should be just\n",
            "\n",
            "are\n",
            "\n",
            "in\n",
            "\n",
            "Figure 4: Two attention heads, also in layer 5 of 6, apparently involved in anaphora resolution. Top: Full attentions for head 5. Bottom: Isolated attentions from just the word ‘its’ for attention heads 5 and 6. Note that the attentions are very sharp for this word.\n",
            "\n",
            "14\n",
            "\n",
            "my\n",
            "\n",
            "perfect\n",
            "\n",
            "is\n",
            "\n",
            "should\n",
            "\n",
            "its\n",
            "\n",
            "<pad>\n",
            "\n",
            "is\n",
            "\n",
            "\n",
            "\n",
            ",\n",
            "\n",
            "\n",
            "\n",
            "missing\n",
            "------------\n",
            "Given the new context, refine the original summary.\n",
            "If the context isn't useful, return the original summary.\u001b[0m\n"
          ]
        },
        {
          "name": "stderr",
          "output_type": "stream",
          "text": [
            "Retrying langchain.chat_models.openai.ChatOpenAI.completion_with_retry.<locals>._completion_with_retry in 4.0 seconds as it raised RateLimitError: Rate limit reached for default-gpt-3.5-turbo in organization org-NgmXnpBpFaLLIbFlmm27vgpu on requests per min. Limit: 3 / min. Please try again in 20s. Contact us through our help center at help.openai.com if you continue to have issues. Please add a payment method to your account to increase your rate limit. Visit https://platform.openai.com/account/billing to add a payment method..\n"
          ]
        },
        {
          "name": "stdout",
          "output_type": "stream",
          "text": [
            "\n",
            "\u001b[1m> Finished chain.\u001b[0m\n",
            "\n",
            "\n",
            "\u001b[1m> Entering new LLMChain chain...\u001b[0m\n",
            "Prompt after formatting:\n",
            "\u001b[32;1m\u001b[1;3mYour job is to produce a final summary.\n",
            "We have provided an existing summary up to a certain point: The paper introduces the Transformer, a network architecture based solely on attention mechanisms, which achieves superior results in machine translation tasks compared to existing models. The Transformer is more parallelizable and requires less training time. The paper also discusses the advantages of self-attention and describes the architecture of the Transformer, including the encoder and decoder stacks and the attention mechanism used. The paper further compares self-attention layers to recurrent and convolutional layers in terms of computational complexity, parallelizability, and the length of paths between long-range dependencies in the network. Additionally, the paper explores the interpretability of self-attention and presents examples of attention distributions related to the syntactic and semantic structure of sentences. The training regime, hardware, schedule, optimizer, and regularization techniques used for training the models are described. The paper also presents the results of machine translation tasks, where the Transformer outperforms previous models in terms of BLEU scores while requiring significantly less training cost. The importance of different components of the Transformer is evaluated, and the model's generalization to English constituency parsing is demonstrated. The authors express excitement about the future of attention-based models and plan to apply them to other tasks, such as handling inputs and outputs other than text and making generation less sequential. The code used for training and evaluating the models is available on GitHub. The paper acknowledges the contributions of Nal Kalchbrenner and Stephan Gouws.\n",
            "We have the opportunity to refine the existing summary (only if needed) with some more context below.\n",
            "------------\n",
            "14\n",
            "\n",
            "my\n",
            "\n",
            "perfect\n",
            "\n",
            "is\n",
            "\n",
            "should\n",
            "\n",
            "its\n",
            "\n",
            "<pad>\n",
            "\n",
            "is\n",
            "\n",
            "\n",
            "\n",
            ",\n",
            "\n",
            "\n",
            "\n",
            "missing\n",
            "\n",
            "we\n",
            "\n",
            "<EOS>\n",
            "\n",
            "<EOS>\n",
            "\n",
            ",\n",
            "\n",
            ",\n",
            "\n",
            "never\n",
            "\n",
            "what\n",
            "\n",
            "what\n",
            "\n",
            "just\n",
            "\n",
            "just\n",
            "\n",
            "we\n",
            "\n",
            "Law\n",
            "\n",
            "but\n",
            "\n",
            "<pad>\n",
            "\n",
            "are\n",
            "\n",
            "Law\n",
            "\n",
            "The\n",
            "\n",
            "just\n",
            "\n",
            "what\n",
            "\n",
            "what\n",
            "\n",
            "never\n",
            "\n",
            "in\n",
            "\n",
            ".\n",
            "\n",
            "missing\n",
            "\n",
            "be\n",
            "\n",
            "opinion\n",
            "\n",
            "application\n",
            "\n",
            "this\n",
            "\n",
            "this\n",
            "\n",
            "my\n",
            "\n",
            "my\n",
            "\n",
            "will\n",
            "\n",
            "be\n",
            "\n",
            ".\n",
            "\n",
            "opinion\n",
            "\n",
            "The\n",
            "\n",
            "The\n",
            "\n",
            "are\n",
            "\n",
            "is\n",
            "\n",
            "is\n",
            "\n",
            "should\n",
            "\n",
            "its\n",
            "\n",
            "its\n",
            "\n",
            "<pad>\n",
            "\n",
            " Input-Input Layer5 The Law will never be perfect , but its application should be just\n",
            "\n",
            "\n",
            "\n",
            ".\n",
            "\n",
            "perfect\n",
            "\n",
            "we\n",
            "\n",
            "<EOS>\n",
            "\n",
            "<EOS>\n",
            "\n",
            ",\n",
            "\n",
            ",\n",
            "\n",
            ",\n",
            "\n",
            ",\n",
            "\n",
            "Input-Input Layer5\n",
            "\n",
            "but\n",
            "\n",
            "but\n",
            "\n",
            "we\n",
            "\n",
            "perfect\n",
            "\n",
            "missing\n",
            "\n",
            "missing\n",
            "\n",
            "Law\n",
            "\n",
            "are\n",
            "\n",
            "in\n",
            "\n",
            "never\n",
            "\n",
            "application\n",
            "\n",
            "in\n",
            "\n",
            "be\n",
            "\n",
            "be\n",
            "\n",
            "be\n",
            "\n",
            "be\n",
            "\n",
            "opinion\n",
            "\n",
            "opinion\n",
            "\n",
            "application\n",
            "\n",
            "this\n",
            "\n",
            "this\n",
            "\n",
            "my\n",
            "\n",
            "will\n",
            "\n",
            "will\n",
            "\n",
            "should\n",
            "\n",
            ".\n",
            "\n",
            " Input-Input Layer5 The Law will never be perfect , but its application should be just\n",
            "\n",
            "are\n",
            "\n",
            "in\n",
            "\n",
            "Figure 5: Many of the attention heads exhibit behaviour that seems related to the structure of the sentence. We give two such examples above, from two different heads from the encoder self-attention at layer 5 of 6. The heads clearly learned to perform different tasks.\n",
            "\n",
            "15\n",
            "------------\n",
            "Given the new context, refine the original summary.\n",
            "If the context isn't useful, return the original summary.\u001b[0m\n"
          ]
        },
        {
          "name": "stderr",
          "output_type": "stream",
          "text": [
            "Retrying langchain.chat_models.openai.ChatOpenAI.completion_with_retry.<locals>._completion_with_retry in 4.0 seconds as it raised RateLimitError: Rate limit reached for default-gpt-3.5-turbo in organization org-NgmXnpBpFaLLIbFlmm27vgpu on requests per min. Limit: 3 / min. Please try again in 20s. Contact us through our help center at help.openai.com if you continue to have issues. Please add a payment method to your account to increase your rate limit. Visit https://platform.openai.com/account/billing to add a payment method..\n",
            "Retrying langchain.chat_models.openai.ChatOpenAI.completion_with_retry.<locals>._completion_with_retry in 4.0 seconds as it raised RateLimitError: Rate limit reached for default-gpt-3.5-turbo in organization org-NgmXnpBpFaLLIbFlmm27vgpu on requests per min. Limit: 3 / min. Please try again in 20s. Contact us through our help center at help.openai.com if you continue to have issues. Please add a payment method to your account to increase your rate limit. Visit https://platform.openai.com/account/billing to add a payment method..\n"
          ]
        },
        {
          "name": "stdout",
          "output_type": "stream",
          "text": [
            "\n",
            "\u001b[1m> Finished chain.\u001b[0m\n",
            "\n",
            "\u001b[1m> Finished chain.\u001b[0m\n"
          ]
        }
      ],
      "source": [
        "chain = load_summarize_chain(\n",
        "    llm=llm,\n",
        "    chain_type='refine',\n",
        "    verbose=True\n",
        ")\n",
        "output_summary = chain.run(chunks)"
      ]
    },
    {
      "cell_type": "code",
      "execution_count": 10,
      "id": "4f625242",
      "metadata": {
        "id": "4f625242",
        "outputId": "6883b58f-28cc-4ec6-a95c-472db0ec90df"
      },
      "outputs": [
        {
          "name": "stdout",
          "output_type": "stream",
          "text": [
            "The paper introduces the Transformer, a network architecture based solely on attention mechanisms, which achieves superior results in machine translation tasks compared to existing models. The Transformer is more parallelizable and requires less training time. The paper also discusses the advantages of self-attention and describes the architecture of the Transformer, including the encoder and decoder stacks and the attention mechanism used. The paper further compares self-attention layers to recurrent and convolutional layers in terms of computational complexity, parallelizability, and the length of paths between long-range dependencies in the network. Additionally, the paper explores the interpretability of self-attention and presents examples of attention distributions related to the syntactic and semantic structure of sentences. The training regime, hardware, schedule, optimizer, and regularization techniques used for training the models are described. The paper also presents the results of machine translation tasks, where the Transformer outperforms previous models in terms of BLEU scores while requiring significantly less training cost. The importance of different components of the Transformer is evaluated, and the model's generalization to English constituency parsing is demonstrated. The authors express excitement about the future of attention-based models and plan to apply them to other tasks, such as handling inputs and outputs other than text and making generation less sequential. The code used for training and evaluating the models is available on GitHub. The paper acknowledges the contributions of Nal Kalchbrenner and Stephan Gouws. The Law will never be perfect, but its application should be just. Many attention heads in the Transformer exhibit behavior related to the structure of the sentence, indicating that they have learned to perform different tasks.\n"
          ]
        }
      ],
      "source": [
        "print(output_summary)"
      ]
    },
    {
      "cell_type": "markdown",
      "id": "d356adb9",
      "metadata": {
        "id": "d356adb9"
      },
      "source": [
        "### refine With Custom Prompts"
      ]
    },
    {
      "cell_type": "code",
      "execution_count": 11,
      "id": "fdca96ca",
      "metadata": {
        "id": "fdca96ca"
      },
      "outputs": [],
      "source": [
        "prompt_template = \"\"\"Write a concise summary of the following extracting the key information:\n",
        "Text: `{text}`\n",
        "CONCISE SUMMARY:\"\"\"\n",
        "initial_prompt = PromptTemplate(template=prompt_template, input_variables=['text'])\n",
        "\n",
        "refine_template = '''\n",
        "    Your job is to produce a final summary.\n",
        "    I have provided an existing summary up to a certain point: {existing_answer}.\n",
        "    Please refine the existing summary with some more context below.\n",
        "    ------------\n",
        "    {text}\n",
        "    ------------\n",
        "    Start the final summary with an INTRODUCTION PARAGRAPH that gives an overview of the topic FOLLOWED\n",
        "    by BULLET POINTS if possible AND end the summary with a CONCLUSION PHRASE.\n",
        "\n",
        "'''\n",
        "refine_prompt = PromptTemplate(\n",
        "    template=refine_template,\n",
        "    input_variables=['existing_answer', 'text']\n",
        ")\n"
      ]
    },
    {
      "cell_type": "code",
      "execution_count": 12,
      "id": "bb4056ad",
      "metadata": {
        "id": "bb4056ad"
      },
      "outputs": [
        {
          "name": "stderr",
          "output_type": "stream",
          "text": [
            "Retrying langchain.chat_models.openai.ChatOpenAI.completion_with_retry.<locals>._completion_with_retry in 4.0 seconds as it raised RateLimitError: Rate limit reached for default-gpt-3.5-turbo in organization org-NgmXnpBpFaLLIbFlmm27vgpu on requests per min. Limit: 3 / min. Please try again in 20s. Contact us through our help center at help.openai.com if you continue to have issues. Please add a payment method to your account to increase your rate limit. Visit https://platform.openai.com/account/billing to add a payment method..\n",
            "Retrying langchain.chat_models.openai.ChatOpenAI.completion_with_retry.<locals>._completion_with_retry in 4.0 seconds as it raised RateLimitError: Rate limit reached for default-gpt-3.5-turbo in organization org-NgmXnpBpFaLLIbFlmm27vgpu on requests per min. Limit: 3 / min. Please try again in 20s. Contact us through our help center at help.openai.com if you continue to have issues. Please add a payment method to your account to increase your rate limit. Visit https://platform.openai.com/account/billing to add a payment method..\n",
            "Retrying langchain.chat_models.openai.ChatOpenAI.completion_with_retry.<locals>._completion_with_retry in 4.0 seconds as it raised RateLimitError: Rate limit reached for default-gpt-3.5-turbo in organization org-NgmXnpBpFaLLIbFlmm27vgpu on requests per min. Limit: 3 / min. Please try again in 20s. Contact us through our help center at help.openai.com if you continue to have issues. Please add a payment method to your account to increase your rate limit. Visit https://platform.openai.com/account/billing to add a payment method..\n",
            "Retrying langchain.chat_models.openai.ChatOpenAI.completion_with_retry.<locals>._completion_with_retry in 4.0 seconds as it raised RateLimitError: Rate limit reached for default-gpt-3.5-turbo in organization org-NgmXnpBpFaLLIbFlmm27vgpu on requests per min. Limit: 3 / min. Please try again in 20s. Contact us through our help center at help.openai.com if you continue to have issues. Please add a payment method to your account to increase your rate limit. Visit https://platform.openai.com/account/billing to add a payment method..\n",
            "Retrying langchain.chat_models.openai.ChatOpenAI.completion_with_retry.<locals>._completion_with_retry in 4.0 seconds as it raised RateLimitError: Rate limit reached for default-gpt-3.5-turbo in organization org-NgmXnpBpFaLLIbFlmm27vgpu on requests per min. Limit: 3 / min. Please try again in 20s. Contact us through our help center at help.openai.com if you continue to have issues. Please add a payment method to your account to increase your rate limit. Visit https://platform.openai.com/account/billing to add a payment method..\n",
            "Retrying langchain.chat_models.openai.ChatOpenAI.completion_with_retry.<locals>._completion_with_retry in 4.0 seconds as it raised RateLimitError: Rate limit reached for default-gpt-3.5-turbo in organization org-NgmXnpBpFaLLIbFlmm27vgpu on requests per min. Limit: 3 / min. Please try again in 20s. Contact us through our help center at help.openai.com if you continue to have issues. Please add a payment method to your account to increase your rate limit. Visit https://platform.openai.com/account/billing to add a payment method..\n",
            "Retrying langchain.chat_models.openai.ChatOpenAI.completion_with_retry.<locals>._completion_with_retry in 4.0 seconds as it raised RateLimitError: Rate limit reached for default-gpt-3.5-turbo in organization org-NgmXnpBpFaLLIbFlmm27vgpu on requests per min. Limit: 3 / min. Please try again in 20s. Contact us through our help center at help.openai.com if you continue to have issues. Please add a payment method to your account to increase your rate limit. Visit https://platform.openai.com/account/billing to add a payment method..\n",
            "Retrying langchain.chat_models.openai.ChatOpenAI.completion_with_retry.<locals>._completion_with_retry in 4.0 seconds as it raised RateLimitError: Rate limit reached for default-gpt-3.5-turbo in organization org-NgmXnpBpFaLLIbFlmm27vgpu on requests per min. Limit: 3 / min. Please try again in 20s. Contact us through our help center at help.openai.com if you continue to have issues. Please add a payment method to your account to increase your rate limit. Visit https://platform.openai.com/account/billing to add a payment method..\n",
            "Retrying langchain.chat_models.openai.ChatOpenAI.completion_with_retry.<locals>._completion_with_retry in 4.0 seconds as it raised RateLimitError: Rate limit reached for default-gpt-3.5-turbo in organization org-NgmXnpBpFaLLIbFlmm27vgpu on requests per min. Limit: 3 / min. Please try again in 20s. Contact us through our help center at help.openai.com if you continue to have issues. Please add a payment method to your account to increase your rate limit. Visit https://platform.openai.com/account/billing to add a payment method..\n",
            "Retrying langchain.chat_models.openai.ChatOpenAI.completion_with_retry.<locals>._completion_with_retry in 4.0 seconds as it raised RateLimitError: Rate limit reached for default-gpt-3.5-turbo in organization org-NgmXnpBpFaLLIbFlmm27vgpu on requests per min. Limit: 3 / min. Please try again in 20s. Contact us through our help center at help.openai.com if you continue to have issues. Please add a payment method to your account to increase your rate limit. Visit https://platform.openai.com/account/billing to add a payment method..\n",
            "Retrying langchain.chat_models.openai.ChatOpenAI.completion_with_retry.<locals>._completion_with_retry in 4.0 seconds as it raised RateLimitError: Rate limit reached for default-gpt-3.5-turbo in organization org-NgmXnpBpFaLLIbFlmm27vgpu on requests per min. Limit: 3 / min. Please try again in 20s. Contact us through our help center at help.openai.com if you continue to have issues. Please add a payment method to your account to increase your rate limit. Visit https://platform.openai.com/account/billing to add a payment method..\n",
            "Retrying langchain.chat_models.openai.ChatOpenAI.completion_with_retry.<locals>._completion_with_retry in 4.0 seconds as it raised RateLimitError: Rate limit reached for default-gpt-3.5-turbo in organization org-NgmXnpBpFaLLIbFlmm27vgpu on requests per min. Limit: 3 / min. Please try again in 20s. Contact us through our help center at help.openai.com if you continue to have issues. Please add a payment method to your account to increase your rate limit. Visit https://platform.openai.com/account/billing to add a payment method..\n",
            "Retrying langchain.chat_models.openai.ChatOpenAI.completion_with_retry.<locals>._completion_with_retry in 4.0 seconds as it raised RateLimitError: Rate limit reached for default-gpt-3.5-turbo in organization org-NgmXnpBpFaLLIbFlmm27vgpu on requests per min. Limit: 3 / min. Please try again in 20s. Contact us through our help center at help.openai.com if you continue to have issues. Please add a payment method to your account to increase your rate limit. Visit https://platform.openai.com/account/billing to add a payment method..\n"
          ]
        }
      ],
      "source": [
        "chain = load_summarize_chain(\n",
        "    llm=llm,\n",
        "    chain_type='refine',\n",
        "    question_prompt=initial_prompt,\n",
        "    refine_prompt=refine_prompt,\n",
        "    return_intermediate_steps=False\n",
        "\n",
        ")\n",
        "output_summary = chain.run(chunks)"
      ]
    },
    {
      "cell_type": "code",
      "execution_count": 13,
      "id": "dc7247a4",
      "metadata": {
        "id": "dc7247a4",
        "outputId": "5a74c1d9-8346-4681-b391-f4214c915454"
      },
      "outputs": [
        {
          "name": "stdout",
          "output_type": "stream",
          "text": [
            "The paper introduces the Transformer, a new network architecture that relies solely on attention mechanisms for sequence transduction tasks. The Transformer model achieves superior results in machine translation tasks, is more parallelizable, and requires less training time compared to existing models. It achieves state-of-the-art results in translation quality and generalizes well to other tasks. The attention mechanism in the Transformer is based on dot-product attention, which is faster and more space-efficient compared to additive attention. The model also employs multi-head attention, allowing it to jointly attend to information from different representation subspaces at different positions. The Transformer uses self-attention layers in the encoder and decoder, as well as encoder-decoder attention layers. The model also includes position-wise feed-forward networks and positional encodings to capture the order of the sequence. The Transformer architecture offers a more efficient and effective approach to sequence transduction tasks compared to traditional recurrent and convolutional layers. Additionally, the self-attention mechanism in the Transformer can yield more interpretable models, as shown by the inspection of attention distributions. The paper also provides details on the training regime, hardware and schedule, optimizer, and regularization techniques used. The Transformer model achieves better BLEU scores than previous state-of-the-art models on machine translation tasks, while requiring significantly less training cost. Furthermore, the Transformer architecture generalizes well to other tasks, such as English constituency parsing, outperforming previous models. In conclusion, the Transformer presents a groundbreaking approach to sequence transduction tasks, offering improved performance, interpretability, and generalization capabilities. The authors are excited about the future of attention-based models and plan to apply them to other tasks, such as handling large inputs and outputs like images, audio, and video. The code used to train and evaluate the models is available on GitHub. The authors acknowledge the contributions of Nal Kalchbrenner and Stephan Gouws.\n",
            "\n",
            "- The Transformer model achieves superior results in machine translation tasks and generalizes well to other tasks.\n",
            "- The attention mechanism in the Transformer is based on dot-product attention, which is faster and more space-efficient.\n",
            "- The model employs multi-head attention, allowing it to jointly attend to information from different representation subspaces.\n",
            "- The Transformer architecture offers a more efficient and effective approach to sequence transduction tasks compared to traditional layers.\n",
            "- The self-attention mechanism in the Transformer can yield more interpretable models.\n",
            "- The Transformer model achieves better BLEU scores on machine translation tasks while requiring less training cost.\n",
            "- The Transformer architecture generalizes well to other tasks, outperforming previous models.\n",
            "- The authors plan to apply attention-based models to handle large inputs and outputs like images, audio, and video.\n",
            "\n",
            "In conclusion, the Transformer presents a groundbreaking approach to sequence transduction tasks, offering improved performance, interpretability, and generalization capabilities.\n"
          ]
        }
      ],
      "source": [
        "print(output_summary)"
      ]
    },
    {
      "cell_type": "markdown",
      "id": "ddf3b73e",
      "metadata": {
        "id": "ddf3b73e"
      },
      "source": [
        "### Summarizing Using LangChain Agents"
      ]
    },
    {
      "cell_type": "code",
      "execution_count": 14,
      "id": "1f009c7f",
      "metadata": {
        "id": "1f009c7f"
      },
      "outputs": [],
      "source": [
        "from langchain.chat_models import ChatOpenAI\n",
        "from langchain.agents import initialize_agent, Tool\n",
        "from langchain.utilities import WikipediaAPIWrapper"
      ]
    },
    {
      "cell_type": "code",
      "execution_count": 15,
      "id": "100b3873",
      "metadata": {
        "id": "100b3873",
        "outputId": "5b76b41a-762f-45d6-ff35-48013614d4fe"
      },
      "outputs": [
        {
          "data": {
            "text/plain": [
              "True"
            ]
          },
          "execution_count": 15,
          "metadata": {},
          "output_type": "execute_result"
        }
      ],
      "source": [
        "import os\n",
        "from dotenv import load_dotenv, find_dotenv\n",
        "load_dotenv(find_dotenv(), override=True)"
      ]
    },
    {
      "cell_type": "code",
      "execution_count": 16,
      "id": "eba9c798",
      "metadata": {
        "id": "eba9c798"
      },
      "outputs": [],
      "source": [
        "llm = ChatOpenAI(temperature=0, model_name='gpt-3.5-turbo')\n",
        "wikipedia = WikipediaAPIWrapper()"
      ]
    },
    {
      "cell_type": "code",
      "execution_count": 17,
      "id": "d7a06998",
      "metadata": {
        "id": "d7a06998"
      },
      "outputs": [],
      "source": [
        "tools = [\n",
        "    Tool(\n",
        "        name=\"Wikipedia\",\n",
        "        func=wikipedia.run,\n",
        "        description=\"Useful for when you need to get information from wikipedia about a single topic\"\n",
        "    )\n",
        "]"
      ]
    },
    {
      "cell_type": "code",
      "execution_count": 18,
      "id": "06da060e",
      "metadata": {
        "id": "06da060e"
      },
      "outputs": [],
      "source": [
        "agent_executor = initialize_agent(tools, llm, agent='zero-shot-react-description', verbose=True)"
      ]
    },
    {
      "cell_type": "code",
      "execution_count": 19,
      "id": "d3b6556d",
      "metadata": {
        "id": "d3b6556d",
        "outputId": "7eee1d44-57de-43bd-b5b8-004681a3f631"
      },
      "outputs": [
        {
          "name": "stdout",
          "output_type": "stream",
          "text": [
            "\n",
            "\n",
            "\u001b[1m> Entering new AgentExecutor chain...\u001b[0m\n",
            "\u001b[32;1m\u001b[1;3mI should use Wikipedia to find a short summary of George Washington.\n",
            "Action: Wikipedia\n",
            "Action Input: George Washington\u001b[0m"
          ]
        },
        {
          "name": "stderr",
          "output_type": "stream",
          "text": [
            "Retrying langchain.chat_models.openai.ChatOpenAI.completion_with_retry.<locals>._completion_with_retry in 4.0 seconds as it raised RateLimitError: Rate limit reached for default-gpt-3.5-turbo in organization org-NgmXnpBpFaLLIbFlmm27vgpu on requests per min. Limit: 3 / min. Please try again in 20s. Contact us through our help center at help.openai.com if you continue to have issues. Please add a payment method to your account to increase your rate limit. Visit https://platform.openai.com/account/billing to add a payment method..\n"
          ]
        },
        {
          "name": "stdout",
          "output_type": "stream",
          "text": [
            "\n",
            "Observation: \u001b[36;1m\u001b[1;3mPage: George Washington\n",
            "Summary: George Washington (February 22, 1732 – December 14, 1799) was an American military officer, statesman, and Founding Father who served as the first president of the United States from 1789 to 1797. Appointed by the Second Continental Congress as commander of the Continental Army in June 1775, Washington led Patriot forces to victory in the American Revolutionary War and then served as president of the Constitutional Convention in 1787, which drafted and ratified the Constitution of the United States and established the American federal government. Washington has thus been called the \"Father of his Country\".\n",
            "Washington's first public office, from 1749 to 1750, was as surveyor of Culpeper County in the Colony of Virginia. He subsequently received military training and was assigned command of the Virginia Regiment during the French and Indian War. He was later elected to the Virginia House of Burgesses and was named a delegate to the Continental Congress in Philadelphia, which appointed him Commander-in-Chief of the Continental Army. Washington led American forces to a decisive victory over the British in the Revolutionary War, leading the British to sign the Treaty of Paris, which acknowledged the sovereignty and independence of the United States. He resigned his commission in 1783 after the conclusion of the Revolutionary War. \n",
            "Washington played an indispensable role in adopting and ratifying the Constitution, which replaced the Articles of Confederation in 1789. He was then twice elected president by the Electoral College unanimously. As the first U.S. president, Washington implemented a strong, well-financed national government while remaining impartial in a fierce rivalry that emerged between cabinet members Thomas Jefferson and Alexander Hamilton. During the French Revolution, he proclaimed a policy of neutrality while sanctioning the Jay Treaty. He set enduring precedents for the office of president, including use of the title \"Mr. President\" and the two-term tradition. His 1796 farewell address became a preeminent statement on republicanism in which he wrote about the importance of national unity and the dangers regionalism, partisanship, and foreign influence pose to it.\n",
            "Washington has been memorialized by monuments, a federal holiday, various media depictions, geographical locations including the national capital, the State of Washington, stamps, and currency. He is ranked among the greatest U.S. presidents. In 1976, Washington was posthumously promoted to the rank of General of the Armies, the highest rank in the U.S. Army. His legacy is marred, however, by his ownership of slaves and his complicated relationship with slavery, as well as his policy to assimilate Native Americans into the Anglo-American culture and waging war against Native American nations during the Revolutionary Wars and the Northwest Indian War.\n",
            "\n",
            "Page: George Washington Carver\n",
            "Summary: George Washington Carver (c. 1864 – January 5, 1943) was an American agricultural scientist and inventor who promoted alternative crops to cotton and methods to prevent soil depletion. He was one of the most prominent black scientists of the early 20th century.\n",
            "While a professor at Tuskegee Institute, Carver developed techniques to improve types of soils depleted by repeated plantings of cotton. He wanted poor farmers to grow other crops, such as peanuts and sweet potatoes, as a source of their own food and to improve their quality of life. The most popular of his 44 practical bulletins for farmers contained 105 food recipes using peanuts. Although he spent years developing and promoting numerous products made from peanuts, none became commercially successful.Apart from his work to improve the lives of farmers, Carver was also a leader in promoting environmentalism. He received numerous honors for his work, including the Spingarn Medal of the NAACP. In an era of high racial polarization, his fame reached beyond the black community. He w\u001b[0m\n",
            "Thought:"
          ]
        },
        {
          "name": "stderr",
          "output_type": "stream",
          "text": [
            "Retrying langchain.chat_models.openai.ChatOpenAI.completion_with_retry.<locals>._completion_with_retry in 4.0 seconds as it raised RateLimitError: Rate limit reached for default-gpt-3.5-turbo in organization org-NgmXnpBpFaLLIbFlmm27vgpu on requests per min. Limit: 3 / min. Please try again in 20s. Contact us through our help center at help.openai.com if you continue to have issues. Please add a payment method to your account to increase your rate limit. Visit https://platform.openai.com/account/billing to add a payment method..\n",
            "Retrying langchain.chat_models.openai.ChatOpenAI.completion_with_retry.<locals>._completion_with_retry in 4.0 seconds as it raised RateLimitError: Rate limit reached for default-gpt-3.5-turbo in organization org-NgmXnpBpFaLLIbFlmm27vgpu on requests per min. Limit: 3 / min. Please try again in 20s. Contact us through our help center at help.openai.com if you continue to have issues. Please add a payment method to your account to increase your rate limit. Visit https://platform.openai.com/account/billing to add a payment method..\n",
            "Retrying langchain.chat_models.openai.ChatOpenAI.completion_with_retry.<locals>._completion_with_retry in 8.0 seconds as it raised RateLimitError: Rate limit reached for default-gpt-3.5-turbo in organization org-NgmXnpBpFaLLIbFlmm27vgpu on requests per min. Limit: 3 / min. Please try again in 20s. Contact us through our help center at help.openai.com if you continue to have issues. Please add a payment method to your account to increase your rate limit. Visit https://platform.openai.com/account/billing to add a payment method..\n"
          ]
        },
        {
          "name": "stdout",
          "output_type": "stream",
          "text": [
            "\u001b[32;1m\u001b[1;3mI now know the final answer.\n",
            "Final Answer: George Washington (February 22, 1732 – December 14, 1799) was an American military officer, statesman, and Founding Father who served as the first president of the United States from 1789 to 1797. He played a crucial role in the American Revolutionary War, led the Constitutional Convention, and implemented a strong national government as president. He is considered one of the greatest U.S. presidents. However, his legacy is also marred by his ownership of slaves and his complicated relationship with slavery.\u001b[0m\n",
            "\n",
            "\u001b[1m> Finished chain.\u001b[0m\n"
          ]
        }
      ],
      "source": [
        "output = agent_executor.run('Can you please provide a short summary of George Washington?')"
      ]
    },
    {
      "cell_type": "code",
      "execution_count": 20,
      "id": "6cf9330c",
      "metadata": {
        "id": "6cf9330c",
        "outputId": "b0fc51f0-41ef-4dc2-f37c-fd2e45d8ef56"
      },
      "outputs": [
        {
          "name": "stdout",
          "output_type": "stream",
          "text": [
            "George Washington (February 22, 1732 – December 14, 1799) was an American military officer, statesman, and Founding Father who served as the first president of the United States from 1789 to 1797. He played a crucial role in the American Revolutionary War, led the Constitutional Convention, and implemented a strong national government as president. He is considered one of the greatest U.S. presidents. However, his legacy is also marred by his ownership of slaves and his complicated relationship with slavery.\n"
          ]
        }
      ],
      "source": [
        "print(output)"
      ]
    },
    {
      "cell_type": "code",
      "execution_count": null,
      "id": "8f72b08b",
      "metadata": {
        "id": "8f72b08b"
      },
      "outputs": [],
      "source": []
    }
  ],
  "metadata": {
    "colab": {
      "provenance": []
    },
    "kernelspec": {
      "display_name": "Python 3 (ipykernel)",
      "language": "python",
      "name": "python3"
    },
    "language_info": {
      "codemirror_mode": {
        "name": "ipython",
        "version": 3
      },
      "file_extension": ".py",
      "mimetype": "text/x-python",
      "name": "python",
      "nbconvert_exporter": "python",
      "pygments_lexer": "ipython3",
      "version": "3.8.10"
    }
  },
  "nbformat": 4,
  "nbformat_minor": 5
}
